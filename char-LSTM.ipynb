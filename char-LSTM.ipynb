{
 "cells": [
  {
   "cell_type": "code",
   "execution_count": 14,
   "metadata": {
    "collapsed": true
   },
   "outputs": [],
   "source": [
    "import numpy as np\n",
    "from matplotlib import pyplot as plt\n",
    "%matplotlib inline\n",
    "from tqdm import tqdm, trange"
   ]
  },
  {
   "cell_type": "code",
   "execution_count": 5,
   "metadata": {
    "collapsed": true
   },
   "outputs": [],
   "source": [
    "text = ''"
   ]
  },
  {
   "cell_type": "code",
   "execution_count": 6,
   "metadata": {
    "collapsed": true
   },
   "outputs": [],
   "source": [
    "chars = list(set(text))\n",
    "data_size, vocab_size = len(text), len(chars)\n",
    "char_to_ix = { ch:i for i,ch in enumerate(chars) }\n",
    "ix_to_char = { i:ch for i,ch in enumerate(chars) }"
   ]
  },
  {
   "cell_type": "code",
   "execution_count": 7,
   "metadata": {
    "collapsed": true
   },
   "outputs": [],
   "source": [
    "def convert(data):\n",
    "    x = np.zeros((len(data), vocab_size), dtype='float32')\n",
    "    for k, s in enumerate(data):\n",
    "        x[k, char_to_ix[s]] = 1\n",
    "    return x\n",
    "\n",
    "def generate(batch_size, data, length):\n",
    "    idx = np.arange(len(data) - length - 1)\n",
    "    np.random.shuffle(idx)\n",
    "    for j in range(0, len(idx), batch_size):\n",
    "        x, y = [], []\n",
    "        for i, index in enumerate(idx[j:j+batch_size]):\n",
    "            x.append(convert(data[index:index+length]))\n",
    "            y.append(char_to_ix[data[index+length]])\n",
    "        yield np.array(x, dtype='float32'), np.array(y, dtype='int32')"
   ]
  },
  {
   "cell_type": "code",
   "execution_count": 8,
   "metadata": {},
   "outputs": [],
   "source": [
    "import torch\n",
    "from torch import nn\n",
    "from torch.autograd import Variable\n",
    "\n",
    "class UnaryLSTM(nn.Module):\n",
    "    def __init__(self, input_size, hidden_size):\n",
    "        super().__init__()\n",
    "        \n",
    "        self.cell = nn.LSTMCell(input_size, hidden_size)\n",
    "        self.hidden_size = hidden_size\n",
    " \n",
    "    def forward(self, x):\n",
    "        \"\"\"\n",
    "        x.size() == (batch_size, seq_len, feature)\n",
    "        \"\"\"\n",
    "        params = (Variable(torch.zeros(x.size(0), self.hidden_size)).cuda(),\n",
    "                  Variable(torch.zeros(x.size(0), self.hidden_size)).cuda())\n",
    "        \n",
    "        for t in range(x.size(1)):\n",
    "            params = self.cell(x[:, t], params)\n",
    "        return params[0]\n",
    "    \n",
    "class CharRNN(nn.Module):\n",
    "    def __init__(self, input_size, hidden_size, num_layers=2):\n",
    "        super().__init__()\n",
    "        \n",
    "        self.lstm = nn.LSTM(input_size, hidden_size, num_layers-1, batch_first=True)\n",
    "        self.last = nn.Sequential(\n",
    "#             it just doesn't call .cuda by itself, dunno why\n",
    "            UnaryLSTM(hidden_size, hidden_size), #.cuda(),\n",
    "            nn.Linear(hidden_size, input_size),\n",
    "        )\n",
    "        self.hidden_size = hidden_size\n",
    "        self.num_layers = num_layers - 1\n",
    "        \n",
    "    def forward(self, x):\n",
    "        params = (Variable(torch.zeros(self.num_layers, x.size(0), self.hidden_size)).cuda(),\n",
    "                  Variable(torch.zeros(self.num_layers, x.size(0), self.hidden_size)).cuda())\n",
    "    \n",
    "        x, params = self.lstm(x, params)\n",
    "        x = self.last(x)\n",
    "        return x"
   ]
  },
  {
   "cell_type": "code",
   "execution_count": 9,
   "metadata": {},
   "outputs": [],
   "source": [
    "rnn = CharRNN(len(chars), 100).cuda()\n",
    "criterion = torch.nn.CrossEntropyLoss()\n",
    "losses = []"
   ]
  },
  {
   "cell_type": "code",
   "execution_count": 10,
   "metadata": {
    "collapsed": true
   },
   "outputs": [],
   "source": [
    "optimizer = torch.optim.Adam(rnn.parameters(), lr=1e-3)"
   ]
  },
  {
   "cell_type": "code",
   "execution_count": 12,
   "metadata": {
    "collapsed": true
   },
   "outputs": [],
   "source": [
    "epochs = 50\n",
    "batch_size = 40\n",
    "freq = 5"
   ]
  },
  {
   "cell_type": "code",
   "execution_count": 48,
   "metadata": {
    "scrolled": true
   },
   "outputs": [
    {
     "name": "stderr",
     "output_type": "stream",
     "text": [
      "                                                                     \r"
     ]
    }
   ],
   "source": [
    "bar = trange(epochs, leave=False)\n",
    "for epoch in bar:\n",
    "    mean_loss = 0\n",
    "    step = 0\n",
    "    for x, y in generate(batch_size, text, 30):\n",
    "        x = Variable(torch.from_numpy(x)).cuda()\n",
    "        y = Variable(torch.from_numpy(y.astype(np.long)), requires_grad=False).cuda()\n",
    "        \n",
    "        y_pred = rnn(x)\n",
    "        loss = criterion(y_pred, y)\n",
    "        mean_loss += loss.cpu().data[0]\n",
    "        \n",
    "        optimizer.zero_grad()\n",
    "        loss.backward()\n",
    "        optimizer.step()\n",
    "        \n",
    "        step += 1\n",
    "        if step >= freq:\n",
    "            losses.append(mean_loss / step)\n",
    "            bar.set_description(str(losses[-1]))\n",
    "            mean_loss = step = 0\n",
    "    if step:\n",
    "        losses.append(mean_loss / step)\n",
    "        bar.set_description(str(losses[-1]))"
   ]
  },
  {
   "cell_type": "code",
   "execution_count": 49,
   "metadata": {
    "scrolled": false
   },
   "outputs": [
    {
     "data": {
      "text/plain": [
       "[<matplotlib.lines.Line2D at 0x7f7d354c3cc0>]"
      ]
     },
     "execution_count": 49,
     "metadata": {},
     "output_type": "execute_result"
    },
    {
     "data": {
      "image/png": "[encoded data removed]",
      "text/plain": [
       "<matplotlib.figure.Figure at 0x7f7d35554908>"
      ]
     },
     "metadata": {},
     "output_type": "display_data"
    }
   ],
   "source": [
    "plt.plot(losses)"
   ]
  },
  {
   "cell_type": "code",
   "execution_count": 50,
   "metadata": {
    "collapsed": true
   },
   "outputs": [],
   "source": [
    "x = 'some string '"
   ]
  },
  {
   "cell_type": "code",
   "execution_count": null,
   "metadata": {},
   "outputs": [],
   "source": [
    "for _ in range(10):\n",
    "    t = np.array([convert(x)])\n",
    "    t = Variable(torch.from_numpy(t)).cuda()\n",
    "    prob = rnn(t).cpu().data.numpy()[0]\n",
    "    prob = np.exp(prob)\n",
    "    x += np.random.choice(chars, p = prob / sum(prob))\n",
    "x"
   ]
  }
 ],
 "metadata": {
  "kernelspec": {
   "display_name": "Python 3.6.1",
   "language": "python",
   "name": "env36"
  },
  "language_info": {
   "codemirror_mode": {
    "name": "ipython",
    "version": 3
   },
   "file_extension": ".py",
   "mimetype": "text/x-python",
   "name": "python",
   "nbconvert_exporter": "python",
   "pygments_lexer": "ipython3",
   "version": "3.6.1"
  }
 },
 "nbformat": 4,
 "nbformat_minor": 1
}
