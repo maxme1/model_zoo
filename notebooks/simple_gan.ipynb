{
 "cells": [
  {
   "cell_type": "code",
   "execution_count": 1,
   "metadata": {},
   "outputs": [],
   "source": [
    "import numpy as np\n",
    "import matplotlib.pyplot as plt\n",
    "from tqdm import tqdm_notebook as tqdm\n",
    "%matplotlib inline"
   ]
  },
  {
   "cell_type": "code",
   "execution_count": 2,
   "metadata": {},
   "outputs": [],
   "source": [
    "from torch import nn\n",
    "from torch.autograd import Variable\n",
    "import torch"
   ]
  },
  {
   "cell_type": "code",
   "execution_count": 57,
   "metadata": {},
   "outputs": [],
   "source": [
    "def get_x(batch_size):\n",
    "    return Variable(torch.randn(batch_size, 1)).cuda()\n",
    "\n",
    "def get_y(batch_size):\n",
    "    return to_var(np.random.uniform(size=(batch_size, 1)))\n",
    "\n",
    "def to_np(x):\n",
    "    return x.data.cpu().numpy()\n",
    "\n",
    "def to_var(x):\n",
    "    return Variable(torch.from_numpy(np.asarray(x).astype('float32'))).cuda()"
   ]
  },
  {
   "cell_type": "code",
   "execution_count": 120,
   "metadata": {},
   "outputs": [],
   "source": [
    "discriminator = nn.Sequential(\n",
    "    nn.Linear(1, 20),\n",
    "    nn.ReLU(inplace=True),\n",
    "    nn.Linear(20, 100),\n",
    "    nn.ReLU(inplace=True),\n",
    "    nn.Linear(100, 20),\n",
    "    nn.ReLU(inplace=True),\n",
    "    nn.Linear(20, 1),\n",
    "    nn.Sigmoid()\n",
    ").cuda()\n",
    "\n",
    "generator = nn.Sequential(\n",
    "    nn.Linear(1, 20),\n",
    "    nn.ReLU(inplace=True),\n",
    "    nn.Linear(20, 100),\n",
    "    nn.ReLU(inplace=True),\n",
    "    nn.Linear(100, 20),\n",
    "    nn.ReLU(inplace=True),\n",
    "    nn.Linear(20, 1),\n",
    "    nn.Sigmoid()\n",
    ").cuda()\n",
    "\n",
    "g_optimizer = torch.optim.Adam(generator.parameters())\n",
    "d_optimizer = torch.optim.Adam(discriminator.parameters())"
   ]
  },
  {
   "cell_type": "code",
   "execution_count": 121,
   "metadata": {},
   "outputs": [],
   "source": [
    "losses = []"
   ]
  },
  {
   "cell_type": "code",
   "execution_count": 122,
   "metadata": {},
   "outputs": [],
   "source": [
    "from dpipe.torch.model import set_lr\n",
    "from dpipe.train.lr_policy import Exponential"
   ]
  },
  {
   "cell_type": "code",
   "execution_count": 123,
   "metadata": {},
   "outputs": [],
   "source": [
    "lr = Exponential(\n",
    "    1e-4, .1, 50000, False\n",
    ")"
   ]
  },
  {
   "cell_type": "code",
   "execution_count": 124,
   "metadata": {},
   "outputs": [],
   "source": [
    "batch_size = 1000"
   ]
  },
  {
   "cell_type": "code",
   "execution_count": 149,
   "metadata": {},
   "outputs": [
    {
     "data": {
      "text/html": [
       "<p>Failed to display Jupyter Widget of type <code>HBox</code>.</p>\n",
       "<p>\n",
       "  If you're reading this message in the Jupyter Notebook or JupyterLab Notebook, it may mean\n",
       "  that the widgets JavaScript is still loading. If this message persists, it\n",
       "  likely means that the widgets JavaScript library is either not installed or\n",
       "  not enabled. See the <a href=\"https://ipywidgets.readthedocs.io/en/stable/user_install.html\">Jupyter\n",
       "  Widgets Documentation</a> for setup instructions.\n",
       "</p>\n",
       "<p>\n",
       "  If you're reading this message in another frontend (for example, a static\n",
       "  rendering on GitHub or <a href=\"https://nbviewer.jupyter.org/\">NBViewer</a>),\n",
       "  it may mean that your frontend doesn't currently support widgets.\n",
       "</p>\n"
      ],
      "text/plain": [
       "HBox(children=(IntProgress(value=0, max=10000), HTML(value='')))"
      ]
     },
     "metadata": {},
     "output_type": "execute_result"
    },
    {
     "name": "stdout",
     "output_type": "stream",
     "text": [
      "\n"
     ]
    }
   ],
   "source": [
    "for _ in tqdm(range(10000)):\n",
    "    set_lr(g_optimizer, lr.lr)\n",
    "    set_lr(d_optimizer, lr.lr)\n",
    "    \n",
    "    x = get_x(batch_size)\n",
    "    fake_y = generator(x)\n",
    "    \n",
    "    g_optimizer.zero_grad()\n",
    "    loss_g = torch.pow(1 - discriminator(fake_y), 2).mean()\n",
    "    loss_g.backward()\n",
    "    g_optimizer.step()\n",
    "    \n",
    "    x, y = get_x(batch_size), get_y(batch_size)\n",
    "    fake_y = generator(x)\n",
    "    \n",
    "    d_optimizer.zero_grad()\n",
    "    loss_d_real = ((1 - discriminator(y)) ** 2).mean()\n",
    "    loss_d_fake = ((discriminator(fake_y)) ** 2).mean()\n",
    "    (loss_d_real + loss_d_fake).backward()\n",
    "    d_optimizer.step()\n",
    "    \n",
    "    losses.append([to_np(i)[0] for i in (loss_g, loss_d_real, loss_d_fake)])\n",
    "    \n",
    "    lr.epoch_finished()"
   ]
  },
  {
   "cell_type": "code",
   "execution_count": 150,
   "metadata": {},
   "outputs": [
    {
     "data": {
      "text/plain": [
       "8.710037002352225e-06"
      ]
     },
     "execution_count": 150,
     "metadata": {},
     "output_type": "execute_result"
    }
   ],
   "source": [
    "lr.lr"
   ]
  },
  {
   "cell_type": "code",
   "execution_count": 151,
   "metadata": {},
   "outputs": [
    {
     "data": {
      "text/plain": [
       "<matplotlib.collections.PathCollection at 0x7f5930366a58>"
      ]
     },
     "execution_count": 151,
     "metadata": {},
     "output_type": "execute_result"
    },
    {
     "data": {
      "image/png": "[encoded data removed]",
      "text/plain": [
       "<matplotlib.figure.Figure at 0x7f59300d1828>"
      ]
     },
     "metadata": {},
     "output_type": "display_data"
    }
   ],
   "source": [
    "x_, y_ = to_np(x).flatten(), to_np(fake_y).flatten()\n",
    "plt.scatter(x_, y_)"
   ]
  },
  {
   "cell_type": "code",
   "execution_count": 153,
   "metadata": {},
   "outputs": [
    {
     "data": {
      "image/png": "[encoded data removed]",
      "text/plain": [
       "<matplotlib.figure.Figure at 0x7f592b5d3c18>"
      ]
     },
     "metadata": {},
     "output_type": "display_data"
    },
    {
     "data": {
      "image/png": "[encoded data removed]",
      "text/plain": [
       "<matplotlib.figure.Figure at 0x7f5930230240>"
      ]
     },
     "metadata": {},
     "output_type": "display_data"
    }
   ],
   "source": [
    "for t, name in zip(zip(*losses), ['g', 'real', 'fake']):\n",
    "    plt.plot(t, label=name)\n",
    "plt.legend()\n",
    "\n",
    "plt.figure()\n",
    "plt.hist(to_np(fake_y).flatten(), bins=50, normed=True);"
   ]
  }
 ],
 "metadata": {
  "kernelspec": {
   "display_name": "Python 3.6 (conda)",
   "language": "python",
   "name": "python-conda"
  },
  "language_info": {
   "codemirror_mode": {
    "name": "ipython",
    "version": 3
   },
   "file_extension": ".py",
   "mimetype": "text/x-python",
   "name": "python",
   "nbconvert_exporter": "python",
   "pygments_lexer": "ipython3",
   "version": "3.6.4"
  }
 },
 "nbformat": 4,
 "nbformat_minor": 2
}
