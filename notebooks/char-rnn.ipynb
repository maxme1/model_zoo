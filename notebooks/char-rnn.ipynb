{
 "cells": [
  {
   "cell_type": "code",
   "execution_count": 1,
   "metadata": {},
   "outputs": [],
   "source": [
    "%matplotlib inline\n",
    "%load_ext autoreload\n",
    "%autoreload 2\n",
    "import numpy as np\n",
    "import matplotlib.pyplot as plt"
   ]
  },
  {
   "cell_type": "code",
   "execution_count": 56,
   "metadata": {},
   "outputs": [],
   "source": [
    "with open('pushkin.txt', encoding='cp1251') as file:\n",
    "    text = file.read()\n",
    "    \n",
    "import re\n",
    "ignore = re.compile('[^абвгдежзийклмнопрстуфхцчшщъыьэюяё ]')\n",
    "spaces = re.compile('\\s\\s+')\n",
    "\n",
    "res = []\n",
    "curr = []\n",
    "for line in text.splitlines():\n",
    "    if line.startswith('\\t\\t'):\n",
    "        curr.append(spaces.sub(' ', ignore.sub('', line.strip().lower())))\n",
    "    elif curr:\n",
    "        res.append(curr)\n",
    "        curr = []\n",
    "        \n",
    "text = ['^' + x + '$' for x in map('\\n'.join, res) if len(x) > 50]"
   ]
  },
  {
   "cell_type": "code",
   "execution_count": 57,
   "metadata": {},
   "outputs": [],
   "source": [
    "vocab = list({w for block in text for w in set(block)})\n",
    "char_to_ix = dict(zip(vocab, range(len(vocab))))\n",
    "ix_to_char = vocab"
   ]
  },
  {
   "cell_type": "code",
   "execution_count": 117,
   "metadata": {},
   "outputs": [],
   "source": [
    "def sample_text(text, size):\n",
    "    assert len(text) > size, f'{len(text)}, {size}'\n",
    "    idx = np.random.randint(len(text) - size)\n",
    "    sample = text[idx:idx+size+1]\n",
    "    return sample[:-1], sample[1:]\n",
    "\n",
    "def encode_str(text):\n",
    "    return np.array([char_to_ix[c] for c in text], 'long')\n",
    "\n",
    "def one_hot_encode_str(text):\n",
    "    result = np.zeros((len(text), len(vocab)), 'float32')\n",
    "    for i, idx in enumerate(encode_str(text)):\n",
    "        result[i, idx] = 1\n",
    "    return result\n",
    "\n",
    "def get_batch(texts, batch_size, sample_size):\n",
    "    p = np.fromiter(map(len, texts), float)\n",
    "    p /= p.sum()\n",
    "    xs, ys = [], []\n",
    "    \n",
    "    for _ in range(batch_size):\n",
    "        x, y = sample_text(np.random.choice(texts, p=p), sample_size)\n",
    "        xs.append(one_hot_encode_str(x))\n",
    "        ys.append(encode_str(y))\n",
    "        \n",
    "    return xs, ys"
   ]
  },
  {
   "cell_type": "code",
   "execution_count": 153,
   "metadata": {},
   "outputs": [],
   "source": [
    "from dpipe.torch.model import sequence_to_np, sequence_to_var, set_lr, to_var, to_np\n",
    "from tensorboard_easy import Logger\n",
    "from model_zoo.models.char_rnn import CharRNN\n",
    "from tqdm import tqdm_notebook as tqdm"
   ]
  },
  {
   "cell_type": "code",
   "execution_count": 200,
   "metadata": {},
   "outputs": [],
   "source": [
    "logger = Logger('/nmnt/media/home/memax/logs/char-rnn/base')\n",
    "log_loss = logger.make_log_scalar('train/loss')"
   ]
  },
  {
   "cell_type": "code",
   "execution_count": 197,
   "metadata": {},
   "outputs": [],
   "source": [
    "net = CharRNN(len(vocab), 100, 1).cuda()\n",
    "optimizer = torch.optim.Adam(net.parameters())\n",
    "criterion = torch.nn.CrossEntropyLoss()"
   ]
  },
  {
   "cell_type": "code",
   "execution_count": 198,
   "metadata": {},
   "outputs": [],
   "source": [
    "set_lr(optimizer, lr=1e-3);"
   ]
  },
  {
   "cell_type": "code",
   "execution_count": null,
   "metadata": {},
   "outputs": [
    {
     "data": {
      "application/vnd.jupyter.widget-view+json": {
       "model_id": "ead37160eedc455c9a4e8d8cdf71f751",
       "version_major": 2,
       "version_minor": 0
      },
      "text/html": [
       "<p>Failed to display Jupyter Widget of type <code>HBox</code>.</p>\n",
       "<p>\n",
       "  If you're reading this message in the Jupyter Notebook or JupyterLab Notebook, it may mean\n",
       "  that the widgets JavaScript is still loading. If this message persists, it\n",
       "  likely means that the widgets JavaScript library is either not installed or\n",
       "  not enabled. See the <a href=\"https://ipywidgets.readthedocs.io/en/stable/user_install.html\">Jupyter\n",
       "  Widgets Documentation</a> for setup instructions.\n",
       "</p>\n",
       "<p>\n",
       "  If you're reading this message in another frontend (for example, a static\n",
       "  rendering on GitHub or <a href=\"https://nbviewer.jupyter.org/\">NBViewer</a>),\n",
       "  it may mean that your frontend doesn't currently support widgets.\n",
       "</p>\n"
      ],
      "text/plain": [
       "HBox(children=(IntProgress(value=0, max=10000), HTML(value='')))"
      ]
     },
     "metadata": {},
     "output_type": "display_data"
    }
   ],
   "source": [
    "batch_size = 100\n",
    "sample_size = 30\n",
    "\n",
    "net.train()\n",
    "for _ in tqdm(range(10000)):\n",
    "    xs, ys = sequence_to_var(*get_batch(text, batch_size, sample_size))\n",
    "    loss = criterion(net(xs).reshape(batch_size * sample_size, -1), ys.reshape(-1))\n",
    "    \n",
    "    optimizer.zero_grad()\n",
    "    loss.backward()\n",
    "    optimizer.step()\n",
    "    \n",
    "    log_loss(loss.item())"
   ]
  },
  {
   "cell_type": "code",
   "execution_count": 173,
   "metadata": {},
   "outputs": [],
   "source": [
    "def predict_next(text):\n",
    "    return ix_to_char[to_np(net(to_var(one_hot_encode_str(text)[None])))[0, -1].argmax()]\n",
    "\n",
    "def append_chars(text, n):\n",
    "    for _ in range(n):\n",
    "        text = text + predict_next(text)\n",
    "    return text"
   ]
  },
  {
   "cell_type": "code",
   "execution_count": 215,
   "metadata": {},
   "outputs": [
    {
     "data": {
      "text/plain": [
       "'жила была о со о сто сто сто сто сто сто сто сто сто сто сто сто сто сто сто сто сто сто сто сто сто сто сто'"
      ]
     },
     "execution_count": 215,
     "metadata": {},
     "output_type": "execute_result"
    }
   ],
   "source": [
    "net.eval()\n",
    "append_chars('жила был', 100)"
   ]
  }
 ],
 "metadata": {
  "kernelspec": {
   "display_name": "Python 3.6 (conda)",
   "language": "python",
   "name": "python-conda"
  },
  "language_info": {
   "codemirror_mode": {
    "name": "ipython",
    "version": 3
   },
   "file_extension": ".py",
   "mimetype": "text/x-python",
   "name": "python",
   "nbconvert_exporter": "python",
   "pygments_lexer": "ipython3",
   "version": "3.6.4"
  }
 },
 "nbformat": 4,
 "nbformat_minor": 2
}
