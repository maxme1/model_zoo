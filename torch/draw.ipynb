{
 "cells": [
  {
   "cell_type": "code",
   "execution_count": 1,
   "metadata": {},
   "outputs": [
    {
     "name": "stdout",
     "output_type": "stream",
     "text": [
      "Downloading train-images-idx3-ubyte.gz\n",
      "Downloading train-labels-idx1-ubyte.gz\n",
      "Downloading t10k-images-idx3-ubyte.gz\n",
      "Downloading t10k-labels-idx1-ubyte.gz\n"
     ]
    }
   ],
   "source": [
    "import sys\n",
    "import os\n",
    "import numpy as np\n",
    "\n",
    "def load_dataset():\n",
    "    if sys.version_info[0] == 2:\n",
    "        from urllib import urlretrieve\n",
    "    else:\n",
    "        from urllib.request import urlretrieve\n",
    "\n",
    "    def download(filename, source='http://yann.lecun.com/exdb/mnist/'):\n",
    "        print(\"Downloading %s\" % filename)\n",
    "        urlretrieve(source + filename, filename)\n",
    "    import gzip\n",
    "\n",
    "    def load_mnist_images(filename):\n",
    "        if not os.path.exists(filename):\n",
    "            download(filename)\n",
    "        with gzip.open(filename, 'rb') as f:\n",
    "            data = np.frombuffer(f.read(), np.uint8, offset=16)\n",
    "        data = data.reshape(-1, 1, 28, 28)\n",
    "        return data / np.float32(256)\n",
    "\n",
    "    def load_mnist_labels(filename):\n",
    "        if not os.path.exists(filename):\n",
    "            download(filename)\n",
    "        with gzip.open(filename, 'rb') as f:\n",
    "            data = np.frombuffer(f.read(), np.uint8, offset=8)\n",
    "        return data\n",
    "    X_train = load_mnist_images('train-images-idx3-ubyte.gz')\n",
    "    y_train = load_mnist_labels('train-labels-idx1-ubyte.gz')\n",
    "    X_test = load_mnist_images('t10k-images-idx3-ubyte.gz')\n",
    "    y_test = load_mnist_labels('t10k-labels-idx1-ubyte.gz')\n",
    "\n",
    "    X_train, X_val = X_train[:-10000], X_train[-10000:]\n",
    "    y_train, y_val = y_train[:-10000], y_train[-10000:]\n",
    "    return X_train, y_train, X_val, y_val, X_test, y_test\n",
    "X_train, y_train, X_val, y_val, X_test, y_test = load_dataset()"
   ]
  },
  {
   "cell_type": "code",
   "execution_count": 2,
   "metadata": {
    "collapsed": true
   },
   "outputs": [],
   "source": [
    "from matplotlib import pyplot as plt\n",
    "%matplotlib inline\n",
    "from tqdm import trange, tqdm"
   ]
  },
  {
   "cell_type": "code",
   "execution_count": 3,
   "metadata": {
    "collapsed": true
   },
   "outputs": [],
   "source": [
    "x = X_train[1154, 0]"
   ]
  },
  {
   "cell_type": "code",
   "execution_count": 4,
   "metadata": {},
   "outputs": [
    {
     "data": {
      "text/plain": [
       "<matplotlib.image.AxesImage at 0x7efcf4bcac50>"
      ]
     },
     "execution_count": 4,
     "metadata": {},
     "output_type": "execute_result"
    },
    {
     "data": {
      "image/png": "[encoded data removed]",
      "text/plain": [
       "<matplotlib.figure.Figure at 0x7efd405d5518>"
      ]
     },
     "metadata": {},
     "output_type": "display_data"
    }
   ],
   "source": [
    "plt.imshow(x)"
   ]
  },
  {
   "cell_type": "markdown",
   "metadata": {},
   "source": [
    "## The viewport"
   ]
  },
  {
   "cell_type": "code",
   "execution_count": 5,
   "metadata": {
    "collapsed": true
   },
   "outputs": [],
   "source": [
    "g_x, g_y, var, delta, n = 10, 10, 1, .5, 4"
   ]
  },
  {
   "cell_type": "code",
   "execution_count": 6,
   "metadata": {
    "collapsed": true
   },
   "outputs": [],
   "source": [
    "a, b = [np.arange(i).reshape(1, -1) for i in x.shape]\n",
    "grid = np.arange(n).reshape(-1, 1)"
   ]
  },
  {
   "cell_type": "code",
   "execution_count": 7,
   "metadata": {
    "collapsed": true
   },
   "outputs": [],
   "source": [
    "mu_x = g_x + (grid - (n + 1) / 2) * delta\n",
    "mu_y = g_y + (grid - (n + 1) / 2) * delta"
   ]
  },
  {
   "cell_type": "code",
   "execution_count": 8,
   "metadata": {
    "collapsed": true
   },
   "outputs": [],
   "source": [
    "Fx = np.exp(-(a - mu_x) ** 2 / (2 * var))\n",
    "Fy = np.exp(-(b - mu_y) ** 2 / (2 * var))\n",
    "Fx /= Fx.sum()\n",
    "Fy /= Fy.sum()"
   ]
  },
  {
   "cell_type": "code",
   "execution_count": 11,
   "metadata": {
    "collapsed": true
   },
   "outputs": [],
   "source": [
    "def compress(x, g_x, g_y, var, delta, n):\n",
    "    a, b = [np.arange(i).reshape(1, -1) for i in x.shape]\n",
    "    grid = np.arange(n).reshape(-1, 1)\n",
    "    \n",
    "    mu_x = g_x + (grid - (n + 1) / 2) * delta\n",
    "    mu_y = g_y + (grid - (n + 1) / 2) * delta\n",
    "    \n",
    "    Fx = np.exp(-(a - mu_x) ** 2 / (2 * var))\n",
    "    Fy = np.exp(-(b - mu_y) ** 2 / (2 * var))\n",
    "    Fx /= Fx.sum()\n",
    "    Fy /= Fy.sum()\n",
    "    \n",
    "    return Fx @ x @ Fy.T"
   ]
  },
  {
   "cell_type": "code",
   "execution_count": 12,
   "metadata": {},
   "outputs": [
    {
     "data": {
      "text/plain": [
       "<matplotlib.image.AxesImage at 0x7efcf49546d8>"
      ]
     },
     "execution_count": 12,
     "metadata": {},
     "output_type": "execute_result"
    },
    {
     "data": {
      "image/png": "[encoded data removed]",
      "text/plain": [
       "<matplotlib.figure.Figure at 0x7efcf4b59b70>"
      ]
     },
     "metadata": {},
     "output_type": "display_data"
    }
   ],
   "source": [
    "plt.imshow(x)"
   ]
  },
  {
   "cell_type": "code",
   "execution_count": 16,
   "metadata": {},
   "outputs": [
    {
     "data": {
      "text/plain": [
       "<matplotlib.image.AxesImage at 0x7efcf470b4a8>"
      ]
     },
     "execution_count": 16,
     "metadata": {},
     "output_type": "execute_result"
    },
    {
     "data": {
      "image/png": "[encoded data removed]",
      "text/plain": [
       "<matplotlib.figure.Figure at 0x7efcf47f1f60>"
      ]
     },
     "metadata": {},
     "output_type": "display_data"
    }
   ],
   "source": [
    "c = compress(x, 10, 10, 1, 1, 10)\n",
    "d = compress(c, 5, 5, 1 / 5, 1, 28)\n",
    "plt.imshow(c)"
   ]
  },
  {
   "cell_type": "code",
   "execution_count": 11,
   "metadata": {},
   "outputs": [
    {
     "data": {
      "text/plain": [
       "<matplotlib.image.AxesImage at 0x7f254121efd0>"
      ]
     },
     "execution_count": 11,
     "metadata": {},
     "output_type": "execute_result"
    },
    {
     "data": {
      "image/png": "[encoded data removed]",
      "text/plain": [
       "<matplotlib.figure.Figure at 0x7f25412cc2e8>"
      ]
     },
     "metadata": {},
     "output_type": "display_data"
    }
   ],
   "source": [
    "plt.imshow(d)"
   ]
  },
  {
   "cell_type": "markdown",
   "metadata": {},
   "source": [
    "## Pytorch implementation"
   ]
  },
  {
   "cell_type": "code",
   "execution_count": 3,
   "metadata": {
    "collapsed": true
   },
   "outputs": [],
   "source": [
    "import torch\n",
    "from torch import nn\n",
    "from torch.autograd import Variable\n",
    "import torch.nn.functional as F"
   ]
  },
  {
   "cell_type": "code",
   "execution_count": 4,
   "metadata": {
    "collapsed": true
   },
   "outputs": [],
   "source": [
    "def bin_crossentropy(target, predicted):\n",
    "    return -torch.sum(target * torch.log(predicted + 1e-10) + (1 - target) * torch.log(1 - predicted + 1e-10))\n",
    "\n",
    "def kl_divergence(mu, log_std):\n",
    "    div = 0\n",
    "    for m, s in zip(mu, log_std):\n",
    "#         div += .5 * (m ** 2 + torch.exp(2 * s) - 2 * s - 1).sum(dim=1)\n",
    "        div += .5 * (m ** 2 + torch.exp(2 * s) - 2 * s - 1).sum(dim=1)\n",
    "    return torch.sum(div)"
   ]
  },
  {
   "cell_type": "code",
   "execution_count": 5,
   "metadata": {
    "collapsed": true
   },
   "outputs": [],
   "source": [
    "def minibatches(inputs, targets, batch_size, shuffle=True, strict=True):\n",
    "    assert len(inputs) == len(targets)\n",
    "\n",
    "    last = batch_size - 1 if strict else 0\n",
    "    if shuffle:\n",
    "        indices = np.arange(len(inputs))\n",
    "        np.random.shuffle(indices)\n",
    "    for start_idx in range(0, len(inputs) - last, batch_size):\n",
    "        if shuffle:\n",
    "            excerpt = indices[start_idx:start_idx + batch_size]\n",
    "        else:\n",
    "            excerpt = slice(start_idx, start_idx + batch_size)\n",
    "        yield inputs[excerpt], targets[excerpt]"
   ]
  },
  {
   "cell_type": "markdown",
   "metadata": {},
   "source": [
    "### Without attention"
   ]
  },
  {
   "cell_type": "code",
   "execution_count": 90,
   "metadata": {
    "collapsed": true
   },
   "outputs": [],
   "source": [
    "class DRAW_(nn.Module):\n",
    "    def __init__(self, image_size, encoder_size, \n",
    "                 decoder_size, sampler_size, length):\n",
    "        super().__init__()\n",
    "        \n",
    "        \n",
    "        self.encoder = nn.LSTMCell(2 * image_size**2 + decoder_size, encoder_size)\n",
    "        self.mu = nn.Linear(encoder_size, sampler_size) \n",
    "        self.log_std = nn.Linear(encoder_size, sampler_size)      \n",
    "        self.decoder = nn.LSTMCell(sampler_size, decoder_size)\n",
    "        self.writer = nn.Linear(decoder_size, image_size ** 2)\n",
    "        \n",
    "        self.image_size = image_size\n",
    "        self.encoder_size = encoder_size\n",
    "        self.decoder_size = decoder_size\n",
    "        self.length = length\n",
    "    \n",
    "    def forward(self, x):\n",
    "        batch = x.size(0)\n",
    "        \n",
    "        result = []\n",
    "        mu, log_std = [], []\n",
    "        c = Variable(torch.zeros(x.size())).cuda()\n",
    "        h_enc = Variable(torch.zeros(batch, self.encoder_size)).cuda()\n",
    "        c_enc = Variable(torch.zeros(batch, self.encoder_size)).cuda()\n",
    "        h_dec = Variable(torch.zeros(batch, self.decoder_size)).cuda()\n",
    "        c_dec = Variable(torch.zeros(batch, self.decoder_size)).cuda()\n",
    "        \n",
    "        for t in range(self.length):\n",
    "            x_hat = x - F.sigmoid(c)\n",
    "            r = self.read(x, x_hat, h_dec).view(batch, -1)\n",
    "            r = torch.cat((r, h_dec), 1)\n",
    "            h_enc, c_enc = self.encoder(r, (h_enc, c_enc))\n",
    "            \n",
    "            z, mean, l_std = self.sample(h_enc)\n",
    "            mu.append(mean)\n",
    "            log_std.append(l_std)\n",
    "            \n",
    "            h_dec, c_dec = self.decoder(z, (h_dec, c_dec))\n",
    "            c += self.write(h_dec).view(batch, self.image_size, self.image_size)\n",
    "            result.append(F.sigmoid(c))\n",
    "        return result, mu, log_std\n",
    "            \n",
    "    def sample(self, state):\n",
    "        mu = self.mu(state)\n",
    "        log_std = self.log_std(state)\n",
    "        eps = Variable(torch.randn(*mu.size())).cuda()\n",
    "        return mu + eps * torch.exp(log_std), mu, log_std\n",
    "    \n",
    "    def read(self, x, x_hat, state):\n",
    "        return torch.cat((x, x_hat), 1)"
   ]
  },
  {
   "cell_type": "code",
   "execution_count": 97,
   "metadata": {
    "collapsed": true
   },
   "outputs": [],
   "source": [
    "draw = DRAW_(28, 500, 500, 10, 10).cuda()\n",
    "optimizer = torch.optim.Adam(draw.parameters(), lr=1e-3)\n",
    "losses = []"
   ]
  },
  {
   "cell_type": "code",
   "execution_count": 99,
   "metadata": {
    "collapsed": true
   },
   "outputs": [],
   "source": [
    "epochs = 15\n",
    "batch_size = 1000\n",
    "freq = 5 #2000 / batch_size"
   ]
  },
  {
   "cell_type": "code",
   "execution_count": 100,
   "metadata": {
    "scrolled": true
   },
   "outputs": [
    {
     "name": "stderr",
     "output_type": "stream",
     "text": [
      "                                                 \r"
     ]
    }
   ],
   "source": [
    "for epoch in range(epochs):\n",
    "    ep = 'Epoch %d: ' % epoch\n",
    "    mean_loss = 0\n",
    "    step = 0\n",
    "    bar = tqdm(minibatches(X_train, y_train, batch_size=batch_size), leave=False)\n",
    "    for x, _ in bar:\n",
    "        x = Variable(torch.from_numpy(x[:, 0])).cuda()\n",
    "\n",
    "        z, mu, log_std = draw(x)\n",
    "        y = z[-1]\n",
    "        loss = bin_crossentropy(x, y) + kl_divergence(mu, log_std)\n",
    "        mean_loss += loss.cpu().data[0]\n",
    "\n",
    "        optimizer.zero_grad()\n",
    "        loss.backward()\n",
    "        optimizer.step()\n",
    "        \n",
    "        step += 1\n",
    "        if step >= freq:\n",
    "            losses.append(mean_loss / step)\n",
    "            bar.set_description(ep + str(losses[-1]))\n",
    "            mean_loss = step = 0\n",
    "    if step:\n",
    "        losses.append(mean_loss / step)\n",
    "        bar.set_description(ep + str(losses[-1]))"
   ]
  },
  {
   "cell_type": "code",
   "execution_count": 1120,
   "metadata": {
    "scrolled": true
   },
   "outputs": [
    {
     "data": {
      "text/plain": [
       "[<matplotlib.lines.Line2D at 0x7f142db7f048>]"
      ]
     },
     "execution_count": 1120,
     "metadata": {},
     "output_type": "execute_result"
    },
    {
     "data": {
      "image/png": "[encoded data removed]",
      "text/plain": [
       "<matplotlib.figure.Figure at 0x7f14eacbff60>"
      ]
     },
     "metadata": {},
     "output_type": "display_data"
    }
   ],
   "source": [
    "plt.plot(losses)"
   ]
  },
  {
   "cell_type": "code",
   "execution_count": 1122,
   "metadata": {},
   "outputs": [
    {
     "data": {
      "text/plain": [
       "<matplotlib.image.AxesImage at 0x7f142da45dd8>"
      ]
     },
     "execution_count": 1122,
     "metadata": {},
     "output_type": "execute_result"
    },
    {
     "data": {
      "image/png": "[encoded data removed]",
      "text/plain": [
       "<matplotlib.figure.Figure at 0x7f142da7d5f8>"
      ]
     },
     "metadata": {},
     "output_type": "display_data"
    }
   ],
   "source": [
    "ax = plt.subplots(1, 2)[1]\n",
    "idx = 6\n",
    "ax[0].imshow(x[idx].cpu().data.numpy(), interpolation='none')\n",
    "ax[1].imshow(z[-1][idx].cpu().data.numpy(), interpolation='none')"
   ]
  },
  {
   "cell_type": "code",
   "execution_count": 1123,
   "metadata": {
    "collapsed": true
   },
   "outputs": [],
   "source": [
    "c = [i[idx].cpu().data.numpy() for i in z]"
   ]
  },
  {
   "cell_type": "code",
   "execution_count": 39,
   "metadata": {
    "collapsed": true
   },
   "outputs": [],
   "source": [
    "from matplotlib.animation import FuncAnimation\n",
    "\n",
    "def animate(data, output_name=None, fps=30, size=None, writer='imagemagick', cmap=None, vmin=None, vmax=None):\n",
    "    if size:\n",
    "        fig = plt.figure(figsize=size)\n",
    "    else:\n",
    "        fig = plt.figure()\n",
    "\n",
    "    im = plt.imshow(data[0], animated=True, cmap=cmap, vmin=vmin, vmax=vmax)\n",
    "\n",
    "    def update(i):\n",
    "        im.set_data(data[i])\n",
    "        if vmin is None or vmax is None:\n",
    "            im.autoscale()\n",
    "        return im,\n",
    "\n",
    "    plt.tight_layout(pad=.1, w_pad=.1, h_pad=.1)\n",
    "\n",
    "    animation = FuncAnimation(fig, func=update, frames=len(data), interval=20, blit=True)\n",
    "    if output_name is None:\n",
    "        return animation\n",
    "    animation.save(output_name, fps=fps, writer=writer)"
   ]
  },
  {
   "cell_type": "code",
   "execution_count": 136,
   "metadata": {},
   "outputs": [
    {
     "data": {
      "image/png": "[encoded data removed]",
      "text/plain": [
       "<matplotlib.figure.Figure at 0x7f24c9e76c88>"
      ]
     },
     "metadata": {},
     "output_type": "display_data"
    }
   ],
   "source": [
    "animate(c, 'draw.gif', fps=2)"
   ]
  },
  {
   "cell_type": "code",
   "execution_count": 131,
   "metadata": {
    "scrolled": true
   },
   "outputs": [
    {
     "data": {
      "text/plain": [
       "<matplotlib.image.AxesImage at 0x7f24c9c7fcf8>"
      ]
     },
     "execution_count": 131,
     "metadata": {},
     "output_type": "execute_result"
    },
    {
     "data": {
      "image/png": "[encoded data removed]",
      "text/plain": [
       "<matplotlib.figure.Figure at 0x7f24c9d19208>"
      ]
     },
     "metadata": {},
     "output_type": "display_data"
    }
   ],
   "source": [
    "plt.imshow(c[8], interpolation='none')"
   ]
  },
  {
   "cell_type": "markdown",
   "metadata": {},
   "source": [
    "### With attention"
   ]
  },
  {
   "cell_type": "code",
   "execution_count": 6,
   "metadata": {
    "collapsed": true
   },
   "outputs": [],
   "source": [
    "# pytorch doesn't support broadcasting yet\n",
    "import operator\n",
    "\n",
    "def unit_prefix(x, n=1):\n",
    "    for i in range(n): x = x.unsqueeze(0)\n",
    "    return x\n",
    "\n",
    "def align(x, y, start_dim=2):\n",
    "    xd, yd = x.dim(), y.dim()\n",
    "    if xd > yd: y = unit_prefix(y, xd - yd)\n",
    "    elif yd > xd: x = unit_prefix(x, yd - xd)\n",
    "\n",
    "    xs, ys = list(x.size()), list(y.size())\n",
    "    nd = len(ys)\n",
    "    for i in range(start_dim, nd):\n",
    "        td = nd-i-1\n",
    "        if   ys[td]==1: ys[td] = xs[td]\n",
    "        elif xs[td]==1: xs[td] = ys[td]\n",
    "    return x.expand(*xs), y.expand(*ys)\n",
    "\n",
    "def dot(x, y):\n",
    "    assert(1<y.dim()<5)\n",
    "    x, y = align(x, y)\n",
    "    \n",
    "    if y.dim() == 2: return x.mm(y)\n",
    "    elif y.dim() == 3: return x.bmm(y)\n",
    "    else:\n",
    "        xs,ys = x.size(), y.size()\n",
    "        res = torch.zeros(*(xs[:-1] + (ys[-1],)))\n",
    "        for i in range(xs[0]): res[i].baddbmm_(x[i], (y[i]))\n",
    "        return res\n",
    "    \n",
    "def aligned_op(x,y,f):\n",
    "    x, y = align(x,y,0)\n",
    "    return f(x, y)\n",
    "\n",
    "def add(x, y): return aligned_op(x, y, operator.add)\n",
    "def sub(x, y): return aligned_op(x, y, operator.sub)\n",
    "def mul(x, y): return aligned_op(x, y, operator.mul)\n",
    "def div(x, y): return aligned_op(x, y, operator.truediv)"
   ]
  },
  {
   "cell_type": "code",
   "execution_count": 42,
   "metadata": {
    "collapsed": true,
    "scrolled": true
   },
   "outputs": [],
   "source": [
    "class DRAW(nn.Module):\n",
    "    def __init__(self, encoder_size, decoder_size, sampler_size, length, \n",
    "                 window_size):\n",
    "        super().__init__()\n",
    "        \n",
    "        self.encoder = nn.LSTMCell(2 * window_size**2 + decoder_size, \n",
    "                                   encoder_size)\n",
    "        self.mu = nn.Linear(encoder_size, sampler_size) \n",
    "        self.log_std = nn.Linear(encoder_size, sampler_size)      \n",
    "        self.decoder = nn.LSTMCell(sampler_size, decoder_size)\n",
    "        self.read_params = nn.Linear(decoder_size, 5)\n",
    "        self.write_params = nn.Linear(decoder_size, 5)\n",
    "        self.writer = nn.Linear(decoder_size, window_size ** 2)\n",
    "        \n",
    "        self.window_size = window_size\n",
    "        self.encoder_size = encoder_size\n",
    "        self.decoder_size = decoder_size\n",
    "        self.length = length\n",
    "        self.eps = 1e-10\n",
    "    \n",
    "    def forward(self, x):\n",
    "        batch = x.size(0)\n",
    "        \n",
    "        result = []\n",
    "        mu, log_std = [], []\n",
    "        c = Variable(torch.zeros(x.size())).cuda()\n",
    "        h_enc = Variable(torch.zeros(batch, self.encoder_size)).cuda()\n",
    "        c_enc = Variable(torch.zeros(batch, self.encoder_size)).cuda()\n",
    "        h_dec = Variable(torch.zeros(batch, self.decoder_size)).cuda()\n",
    "        c_dec = Variable(torch.zeros(batch, self.decoder_size)).cuda()\n",
    "        \n",
    "        for t in range(self.length):\n",
    "            x_hat = x - F.sigmoid(c)\n",
    "            r = self.read(x, x_hat, h_dec).view(batch, -1)\n",
    "            r = torch.cat((r, h_dec), 1)\n",
    "            h_enc, c_enc = self.encoder(r, (h_enc, c_enc))\n",
    "            \n",
    "            z, mean, l_std = self.sample(h_enc)\n",
    "            mu.append(mean)\n",
    "            log_std.append(l_std)\n",
    "            \n",
    "            h_dec, c_dec = self.decoder(z, (h_dec, c_dec))\n",
    "            c += self.write(h_dec, x.size(1)).view(x.size())\n",
    "            result.append(F.sigmoid(c))\n",
    "        return result, mu, log_std\n",
    "            \n",
    "    def sample(self, state):\n",
    "        mu = self.mu(state)\n",
    "        log_std = self.log_std(state)\n",
    "        eps = Variable(torch.randn(*mu.size())).cuda()\n",
    "        return mu + eps * torch.exp(log_std), mu, log_std\n",
    "    \n",
    "    def read(self, x, x_hat, state):\n",
    "        params = self.read_params(state).split(1, 1)\n",
    "        Fx, Fy, gamma = self.get_matrices(*params, x.size(1))\n",
    "        Fy = Fy.transpose(2, 1)\n",
    "        Fxx = torch.bmm(Fx, x)\n",
    "        x = mul(torch.bmm(Fxx, Fy), gamma)\n",
    "        Fxx = torch.bmm(Fx, x_hat)\n",
    "        x_hat = mul(torch.bmm(Fxx, Fy), gamma)\n",
    "        return torch.cat((x, x_hat), 1)\n",
    "    \n",
    "    def write(self, state, image_size):\n",
    "        x = self.writer(state).view(state.size(0), self.window_size, self.window_size)\n",
    "        params = self.write_params(state).split(1, 1)\n",
    "        Fx, Fy, gamma = self.get_matrices(*params, image_size)\n",
    "        Fx = Fx.transpose(2, 1)\n",
    "        Fxx = torch.bmm(Fx, x)\n",
    "        x = mul(torch.bmm(Fxx, Fy), gamma)\n",
    "        return x\n",
    "        \n",
    "    def get_matrices(self, g_x, g_y, log_var, log_delta, log_gamma, image_size):\n",
    "        g_x = (g_x + 1) * (image_size + 1) / 2\n",
    "        g_y = (g_y + 1) * (image_size + 1) / 2\n",
    "        delta = (image_size - 1) / (self.window_size) * torch.exp(log_delta)\n",
    "        \n",
    "#         g_x = F.sigmoid(g_x) * image_size\n",
    "#         g_y = F.sigmoid(g_y) * image_size\n",
    "#         delta = image_size / self.window_size * F.sigmoid(delta)\n",
    "        gamma = torch.exp(log_gamma).view(-1, 1, 1)\n",
    "        var = torch.exp(log_var).view(-1, 1, 1)\n",
    "\n",
    "        grid = Variable(torch.range(0, self.window_size - 1).view(1, -1)).cuda()\n",
    "\n",
    "        mu_x = add(g_x, mul(grid - (self.window_size - 1) / 2, delta))\n",
    "        mu_y = add(g_y, mul(grid - (self.window_size - 1) / 2, delta))\n",
    "        mu_x = mu_x.view(-1, self.window_size, 1)\n",
    "        mu_y = mu_x.view(-1, self.window_size, 1)\n",
    "\n",
    "        a = Variable(torch.range(0, image_size - 1).view(1, 1, -1)).cuda()\n",
    "        b = Variable(torch.range(0, image_size - 1).view(1, 1, -1)).cuda()\n",
    "\n",
    "        Fx = torch.exp(div(-sub(a, mu_x) ** 2, (2 * var)))\n",
    "        Fy = torch.exp(div(-sub(b, mu_y) ** 2, (2 * var)))\n",
    "        Fx = div(Fx, Fx.sum(dim=2) + self.eps)\n",
    "        Fy = div(Fy, Fy.sum(dim=2) + self.eps)\n",
    "        return Fx, Fy, gamma"
   ]
  },
  {
   "cell_type": "code",
   "execution_count": 8,
   "metadata": {
    "collapsed": true
   },
   "outputs": [],
   "source": [
    "draw = DRAW(encoder_size=500, decoder_size=500, sampler_size=10, length=25, window_size=5).cuda()\n",
    "losses = []\n",
    "# criterion = F.binary_cross_entropy\n",
    "criterion = bin_crossentropy"
   ]
  },
  {
   "cell_type": "code",
   "execution_count": 9,
   "metadata": {
    "collapsed": true
   },
   "outputs": [],
   "source": [
    "lr = 1e-3\n",
    "optimizer = torch.optim.Adam(draw.parameters(), lr=lr)"
   ]
  },
  {
   "cell_type": "code",
   "execution_count": 30,
   "metadata": {
    "collapsed": true
   },
   "outputs": [],
   "source": [
    "epochs = 25\n",
    "batch_size = 1000\n",
    "freq = 2000 / batch_size"
   ]
  },
  {
   "cell_type": "code",
   "execution_count": 31,
   "metadata": {
    "collapsed": true,
    "scrolled": true
   },
   "outputs": [],
   "source": [
    "del bar"
   ]
  },
  {
   "cell_type": "code",
   "execution_count": 32,
   "metadata": {
    "scrolled": true
   },
   "outputs": [
    {
     "name": "stderr",
     "output_type": "stream",
     "text": [
      "                                                                              \r"
     ]
    }
   ],
   "source": [
    "for epoch in range(epochs):\n",
    "    ep = 'Epoch %d: ' % epoch\n",
    "    mean_loss = 0\n",
    "    step = 0\n",
    "    bar = tqdm(minibatches(X_train, y_train, batch_size=batch_size), leave=False, \n",
    "               total=(epochs-epoch) * len(X_train) // batch_size)\n",
    "    for x, _ in bar:\n",
    "        x = Variable(torch.from_numpy(x[:, 0])).cuda()\n",
    "\n",
    "        z, mu, log_std = draw(x)\n",
    "        y = z[-1]\n",
    "        loss = (criterion(x, y) + kl_divergence(mu, log_std)) / batch_size\n",
    "        mean_loss += loss.cpu().data[0]\n",
    "\n",
    "        optimizer.zero_grad()\n",
    "        loss.backward()\n",
    "        optimizer.step()\n",
    "        \n",
    "#         nn.utils.clip_grad_norm(draw.parameters(), 100)\n",
    "#         for p in draw.parameters():\n",
    "#             p.data.add_(-lr, p.grad.data)\n",
    "        \n",
    "        step += 1\n",
    "        if step >= freq:\n",
    "            losses.append(mean_loss / step)\n",
    "            bar.set_description(ep + str(losses[-1]))\n",
    "            mean_loss = step = 0\n",
    "    if step:\n",
    "        losses.append(mean_loss / step)\n",
    "        bar.set_description(ep + str(losses[-1]))"
   ]
  },
  {
   "cell_type": "code",
   "execution_count": 33,
   "metadata": {
    "scrolled": false
   },
   "outputs": [
    {
     "data": {
      "text/plain": [
       "[<matplotlib.lines.Line2D at 0x7f83f03bccf8>]"
      ]
     },
     "execution_count": 33,
     "metadata": {},
     "output_type": "execute_result"
    },
    {
     "data": {
      "image/png": "[encoded data removed]",
      "text/plain": [
       "<matplotlib.figure.Figure at 0x7f83c0410eb8>"
      ]
     },
     "metadata": {},
     "output_type": "display_data"
    }
   ],
   "source": [
    "plt.plot(losses)"
   ]
  },
  {
   "cell_type": "code",
   "execution_count": 83,
   "metadata": {},
   "outputs": [
    {
     "data": {
      "text/plain": [
       "<matplotlib.image.AxesImage at 0x7f8397f30cc0>"
      ]
     },
     "execution_count": 83,
     "metadata": {},
     "output_type": "execute_result"
    },
    {
     "data": {
      "image/png": "[encoded data removed]",
      "text/plain": [
       "<matplotlib.figure.Figure at 0x7f8397f11ef0>"
      ]
     },
     "metadata": {},
     "output_type": "display_data"
    }
   ],
   "source": [
    "ax = plt.subplots(1, 2)[1]\n",
    "idx = 200\n",
    "ax[0].imshow(x[idx].cpu().data.numpy(), interpolation='none')\n",
    "ax[1].imshow(z[-1][idx].cpu().data.numpy(), interpolation='none')"
   ]
  },
  {
   "cell_type": "code",
   "execution_count": 84,
   "metadata": {
    "collapsed": true
   },
   "outputs": [],
   "source": [
    "c = [i[idx].cpu().data.numpy() for i in z]"
   ]
  },
  {
   "cell_type": "code",
   "execution_count": null,
   "metadata": {
    "collapsed": true
   },
   "outputs": [],
   "source": [
    "animate(c, 'sh.gif', fps=12)"
   ]
  },
  {
   "cell_type": "code",
   "execution_count": null,
   "metadata": {
    "collapsed": true
   },
   "outputs": [],
   "source": []
  },
  {
   "cell_type": "code",
   "execution_count": 98,
   "metadata": {
    "collapsed": true
   },
   "outputs": [],
   "source": [
    "source = np.array([rotate(X_test[0, 0], i, (1,0), reshape=False) for i in range(0, 181, 1)])\n",
    "pred = draw(Variable(torch.from_numpy(source)).cuda())[0]"
   ]
  },
  {
   "cell_type": "code",
   "execution_count": 99,
   "metadata": {},
   "outputs": [
    {
     "data": {
      "text/plain": [
       "<matplotlib.image.AxesImage at 0x7f83980f5080>"
      ]
     },
     "execution_count": 99,
     "metadata": {},
     "output_type": "execute_result"
    },
    {
     "data": {
      "image/png": "[encoded data removed]",
      "text/plain": [
       "<matplotlib.figure.Figure at 0x7f8397ed47b8>"
      ]
     },
     "metadata": {},
     "output_type": "display_data"
    }
   ],
   "source": [
    "ax = plt.subplots(1, 2)[1]\n",
    "idx = 0\n",
    "ax[0].imshow(source[idx], interpolation='none')\n",
    "ax[1].imshow(pred[-1][idx].cpu().data.numpy(), interpolation='none')"
   ]
  },
  {
   "cell_type": "code",
   "execution_count": 101,
   "metadata": {
    "collapsed": true
   },
   "outputs": [],
   "source": [
    "# c = [i[idx].cpu().data.numpy() for i in pred]\n",
    "c = [pred[-1][idx].cpu().data.numpy() for idx in range(len(source))]"
   ]
  },
  {
   "cell_type": "code",
   "execution_count": 102,
   "metadata": {},
   "outputs": [
    {
     "data": {
      "image/png": "[encoded data removed]",
      "text/plain": [
       "<matplotlib.figure.Figure at 0x7f8397c292b0>"
      ]
     },
     "metadata": {},
     "output_type": "display_data"
    }
   ],
   "source": [
    "animate(c, 'transform.gif', fps=10)"
   ]
  },
  {
   "cell_type": "markdown",
   "metadata": {},
   "source": [
    "## Classification"
   ]
  },
  {
   "cell_type": "code",
   "execution_count": 7,
   "metadata": {
    "collapsed": true
   },
   "outputs": [],
   "source": [
    "class DRAWClassifier(nn.Module):\n",
    "    def __init__(self, encoder_size, attention_size, length, window_size, num_classes):\n",
    "        super().__init__()\n",
    "        \n",
    "        self.encoder = nn.LSTMCell(window_size**2 + attention_size, encoder_size)\n",
    "        self.attention = nn.LSTMCell(encoder_size, attention_size)\n",
    "        self.read_params = nn.Linear(attention_size, 5)\n",
    "        self.classifier = nn.Sequential(\n",
    "            nn.Linear(encoder_size, encoder_size // 4),\n",
    "            nn.ReLU(),\n",
    "            nn.Linear(encoder_size // 4, encoder_size // 8),\n",
    "            nn.ReLU(),\n",
    "            nn.Linear(encoder_size // 8, num_classes),\n",
    "            nn.ReLU(),\n",
    "        )\n",
    "        \n",
    "        self.window_size = window_size\n",
    "        self.encoder_size = encoder_size\n",
    "        self.attention_size = attention_size\n",
    "        self.length = length\n",
    "        self.eps = 1e-10\n",
    "    \n",
    "    def forward(self, x):\n",
    "        batch = x.size(0)\n",
    "        \n",
    "        c = Variable(torch.zeros(x.size())).cuda()\n",
    "        h_enc = Variable(torch.zeros(batch, self.encoder_size)).cuda()\n",
    "        c_enc = Variable(torch.zeros(batch, self.encoder_size)).cuda()\n",
    "        h_att = Variable(torch.zeros(batch, self.attention_size)).cuda()\n",
    "        c_att = Variable(torch.zeros(batch, self.attention_size)).cuda()\n",
    "        \n",
    "        for t in range(self.length):\n",
    "            r = self.read(x, h_att).view(batch, -1)\n",
    "            r = torch.cat((r, h_att), 1)\n",
    "            h_enc, c_enc = self.encoder(r, (h_enc, c_enc))\n",
    "            h_att, c_att = self.attention(h_enc, (h_att, c_att))\n",
    "            \n",
    "        c = F.log_softmax(self.classifier(h_enc))\n",
    "        return c\n",
    "             \n",
    "    def read(self, x, state):\n",
    "        params = self.read_params(state).split(1, 1)\n",
    "        Fx, Fy, gamma = self.get_matrices(*params, x.size(1), x.size(2))\n",
    "        Fy = Fy.transpose(2, 1)\n",
    "        Fxx = torch.bmm(Fx, x)\n",
    "        x = mul(torch.bmm(Fxx, Fy), gamma)\n",
    "        return x\n",
    "        \n",
    "    def get_matrices(self, g_x, g_y, log_var, log_delta, log_gamma, image_width, image_height):\n",
    "        g_x = (g_x + 1) * (image_width + 1) / 2\n",
    "        g_y = (g_y + 1) * (image_height + 1) / 2\n",
    "        delta = (max(image_width, image_height) - 1) / (self.window_size) * torch.exp(log_delta)\n",
    "        gamma = torch.exp(log_gamma).view(-1, 1, 1)\n",
    "        var = torch.exp(log_var).view(-1, 1, 1)\n",
    "\n",
    "        grid = Variable(torch.range(0, self.window_size - 1).view(1, -1)).cuda()\n",
    "\n",
    "        mu_x = add(g_x, mul(grid - (self.window_size - 1) / 2, delta))\n",
    "        mu_y = add(g_y, mul(grid - (self.window_size - 1) / 2, delta))\n",
    "        mu_x = mu_x.view(-1, self.window_size, 1)\n",
    "        mu_y = mu_x.view(-1, self.window_size, 1)\n",
    "\n",
    "        a = Variable(torch.range(0, image_width - 1).view(1, 1, -1)).cuda()\n",
    "        b = Variable(torch.range(0, image_height - 1).view(1, 1, -1)).cuda()\n",
    "\n",
    "        Fx = torch.exp(div(-sub(a, mu_x) ** 2, (2 * var)))\n",
    "        Fy = torch.exp(div(-sub(b, mu_y) ** 2, (2 * var)))\n",
    "        Fx = div(Fx, Fx.sum(dim=2) + self.eps)\n",
    "        Fy = div(Fy, Fy.sum(dim=2) + self.eps)\n",
    "        return Fx, Fy, gamma"
   ]
  },
  {
   "cell_type": "code",
   "execution_count": 8,
   "metadata": {
    "collapsed": true
   },
   "outputs": [],
   "source": [
    "from scipy.ndimage import zoom"
   ]
  },
  {
   "cell_type": "code",
   "execution_count": 61,
   "metadata": {
    "collapsed": true
   },
   "outputs": [],
   "source": [
    "X_zoom = np.array([zoom(x, 4) for x in X_train[:, 0]])"
   ]
  },
  {
   "cell_type": "code",
   "execution_count": 62,
   "metadata": {
    "collapsed": true
   },
   "outputs": [],
   "source": [
    "draw = DRAWClassifier(encoder_size=100, attention_size=100, length=60, window_size=5, num_classes=10).cuda()\n",
    "losses = []\n",
    "criterion = nn.NLLLoss()\n",
    "# criterion = bin_crossentropy"
   ]
  },
  {
   "cell_type": "code",
   "execution_count": 63,
   "metadata": {
    "collapsed": true
   },
   "outputs": [],
   "source": [
    "lr = 1e-4\n",
    "optimizer = torch.optim.Adam(draw.parameters(), lr=lr)"
   ]
  },
  {
   "cell_type": "code",
   "execution_count": 102,
   "metadata": {
    "collapsed": true
   },
   "outputs": [],
   "source": [
    "epochs = 15\n",
    "batch_size = 1000\n",
    "freq = 2000 / batch_size"
   ]
  },
  {
   "cell_type": "code",
   "execution_count": 141,
   "metadata": {},
   "outputs": [
    {
     "name": "stderr",
     "output_type": "stream",
     "text": []
    }
   ],
   "source": [
    "for epoch in range(epochs):\n",
    "    ep = 'Epoch %d: ' % epoch\n",
    "    mean_loss = 0\n",
    "    step = 0\n",
    "    bar = tqdm(minibatches(X_zoom, y_train, batch_size=batch_size), leave=False, \n",
    "               total=(epochs-epoch) * len(X_train) // batch_size)\n",
    "    for x, y in bar:\n",
    "#         some augmentation:\n",
    "#         w, h = np.split(np.random.randint(0, 50, size=4), 2)\n",
    "#         d = 32\n",
    "#         w, h = np.random.randint(0, d + 1, 2)\n",
    "#         x = np.pad(x[:, 0], ((0, 0), (w, d - w), (h, d - h)), mode='constant')\n",
    "        \n",
    "        x = Variable(torch.from_numpy(x)).cuda()\n",
    "        y = Variable(torch.from_numpy(y.astype('long'))).cuda()\n",
    "\n",
    "        y_pred = draw(x)\n",
    "        loss = criterion(y_pred, y)\n",
    "        mean_loss += loss.cpu().data[0]\n",
    "\n",
    "        optimizer.zero_grad()\n",
    "        loss.backward()\n",
    "        optimizer.step()\n",
    "        \n",
    "        step += 1\n",
    "        if step >= freq:\n",
    "            losses.append(mean_loss / step)\n",
    "            bar.set_description(ep + str(losses[-1]))\n",
    "            mean_loss = step = 0\n",
    "    if step:\n",
    "        losses.append(mean_loss / step)\n",
    "        bar.set_description(ep + str(losses[-1]))"
   ]
  },
  {
   "cell_type": "code",
   "execution_count": 142,
   "metadata": {
    "scrolled": true
   },
   "outputs": [
    {
     "data": {
      "text/plain": [
       "[<matplotlib.lines.Line2D at 0x7fa2ddb6a198>]"
      ]
     },
     "execution_count": 142,
     "metadata": {},
     "output_type": "execute_result"
    },
    {
     "data": {
      "image/png": "[encoded data removed]",
      "text/plain": [
       "<matplotlib.figure.Figure at 0x7fa2dd44ee10>"
      ]
     },
     "metadata": {},
     "output_type": "display_data"
    }
   ],
   "source": [
    "plt.plot(losses)"
   ]
  },
  {
   "cell_type": "code",
   "execution_count": 206,
   "metadata": {},
   "outputs": [
    {
     "name": "stdout",
     "output_type": "stream",
     "text": [
      "9\n"
     ]
    },
    {
     "data": {
      "text/plain": [
       "<matplotlib.image.AxesImage at 0x7fa2414e3518>"
      ]
     },
     "execution_count": 206,
     "metadata": {},
     "output_type": "execute_result"
    },
    {
     "data": {
      "image/png": "[encoded data removed]",
      "text/plain": [
       "<matplotlib.figure.Figure at 0x7fa2414f6128>"
      ]
     },
     "metadata": {},
     "output_type": "display_data"
    }
   ],
   "source": [
    "idx = np.random.randint(0, len(y_pred))\n",
    "print(np.argmax(y_pred[idx].cpu().data.numpy()))\n",
    "plt.imshow(x[idx].cpu().data.numpy(), interpolation='none')"
   ]
  },
  {
   "cell_type": "code",
   "execution_count": null,
   "metadata": {
    "collapsed": true
   },
   "outputs": [],
   "source": []
  },
  {
   "cell_type": "code",
   "execution_count": 207,
   "metadata": {},
   "outputs": [
    {
     "name": "stderr",
     "output_type": "stream",
     "text": [
      "/home/mount/neuro-t01-ssd/home/memax/env36/lib/python3.6/site-packages/torch/serialization.py:147: UserWarning: Couldn't retrieve source code for container of type DRAWClassifier. It won't be checked for correctness upon loading.\n",
      "  \"type \" + obj.__name__ + \". It won't be checked \"\n"
     ]
    }
   ],
   "source": [
    "torch.save(draw, 'draw_4x')"
   ]
  }
 ],
 "metadata": {
  "kernelspec": {
   "display_name": "Python 3.6.1",
   "language": "python",
   "name": "python3.6"
  },
  "language_info": {
   "codemirror_mode": {
    "name": "ipython",
    "version": 3
   },
   "file_extension": ".py",
   "mimetype": "text/x-python",
   "name": "python",
   "nbconvert_exporter": "python",
   "pygments_lexer": "ipython3",
   "version": "3.6.1"
  }
 },
 "nbformat": 4,
 "nbformat_minor": 2
}
