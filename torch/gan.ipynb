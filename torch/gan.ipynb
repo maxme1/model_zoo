{
 "cells": [
  {
   "cell_type": "code",
   "execution_count": 55,
   "metadata": {
    "collapsed": true
   },
   "outputs": [],
   "source": [
    "import numpy as np\n",
    "from tqdm import trange, tqdm\n",
    "import torch\n",
    "from torch import nn\n",
    "from torch.autograd import Variable\n",
    "import torch.nn.functional as F"
   ]
  },
  {
   "cell_type": "markdown",
   "metadata": {},
   "source": [
    "## Synthetic data"
   ]
  },
  {
   "cell_type": "code",
   "execution_count": 421,
   "metadata": {
    "collapsed": true
   },
   "outputs": [],
   "source": [
    "mu, std = -2, .2"
   ]
  },
  {
   "cell_type": "code",
   "execution_count": 455,
   "metadata": {
    "collapsed": true
   },
   "outputs": [],
   "source": [
    "generator = nn.Sequential(\n",
    "    nn.Linear(1, 10),\n",
    "    nn.ReLU(),\n",
    "    nn.Linear(10, 100),\n",
    "    nn.ReLU(),\n",
    "    nn.Linear(100, 10),\n",
    "    nn.ReLU(),\n",
    "    nn.Linear(10, 1),\n",
    ").cuda()\n",
    "\n",
    "discriminator = nn.Sequential(\n",
    "    nn.Linear(1, 10),\n",
    "    nn.ReLU(),\n",
    "    nn.Linear(10, 100),\n",
    "    nn.ReLU(),\n",
    "    nn.Linear(100, 10),\n",
    "    nn.ReLU(),\n",
    "    nn.Linear(10, 1),\n",
    "    nn.Sigmoid(),\n",
    ").cuda()"
   ]
  },
  {
   "cell_type": "code",
   "execution_count": 456,
   "metadata": {
    "collapsed": true
   },
   "outputs": [],
   "source": [
    "d_real_losses = []\n",
    "d_fake_losses = []\n",
    "g_losses = []\n",
    "decisions = []\n",
    "maps = []"
   ]
  },
  {
   "cell_type": "code",
   "execution_count": 465,
   "metadata": {
    "collapsed": true
   },
   "outputs": [],
   "source": [
    "lr = 1e-6\n",
    "g_opt = torch.optim.Adam(generator.parameters(), lr=lr)\n",
    "d_opt = torch.optim.Adam(discriminator.parameters(), lr=lr)"
   ]
  },
  {
   "cell_type": "code",
   "execution_count": 458,
   "metadata": {
    "collapsed": true
   },
   "outputs": [],
   "source": [
    "criterion = nn.BCELoss()"
   ]
  },
  {
   "cell_type": "code",
   "execution_count": 459,
   "metadata": {
    "collapsed": true
   },
   "outputs": [],
   "source": [
    "epochs = 2000\n",
    "batch_size = 100"
   ]
  },
  {
   "cell_type": "code",
   "execution_count": 466,
   "metadata": {},
   "outputs": [
    {
     "name": "stderr",
     "output_type": "stream",
     "text": [
      "100%|██████████| 2000/2000 [02:22<00:00, 12.37it/s]\n"
     ]
    }
   ],
   "source": [
    "for epoch in trange(epochs):\n",
    "    fake = generator(Variable(torch.rand(1000, 1)).cuda())\n",
    "    fake = fake.cpu().data[:, 0].numpy()\n",
    "    bound = discriminator(Variable(torch.range(-3 + mu, 3 + mu, .01)).cuda().view(-1, 1))\n",
    "    bound = bound.cpu().data[:, 0].numpy()\n",
    "    maps.append(fake)\n",
    "    decisions.append(bound)\n",
    "    \n",
    "    for _ in range(10):\n",
    "        discriminator.zero_grad()\n",
    "        real = Variable(torch.normal(mu * torch.ones(batch_size, 1), std)).cuda()\n",
    "        labels = Variable(torch.ones(batch_size, 1)).cuda()\n",
    "        y = discriminator(real)\n",
    "        loss = criterion(y, labels)\n",
    "\n",
    "        fake = Variable(torch.rand(batch_size, 1)).cuda()\n",
    "        y = discriminator(generator(fake))\n",
    "        labels = Variable(torch.zeros(batch_size, 1)).cuda()\n",
    "        loss_fake = criterion(y, labels)\n",
    "\n",
    "        d_real_losses.append(loss.cpu().data.numpy()[0])\n",
    "        d_fake_losses.append(loss_fake.cpu().data.numpy()[0])\n",
    "\n",
    "        loss += loss_fake\n",
    "        loss.backward()\n",
    "        d_opt.step()\n",
    "    \n",
    "    generator.zero_grad()\n",
    "    fake = Variable(torch.rand(batch_size, 1)).cuda()\n",
    "    y = discriminator(generator(fake))\n",
    "    labels = Variable(torch.ones(batch_size, 1)).cuda()\n",
    "    loss = criterion(y, labels)\n",
    "    \n",
    "    g_losses.append(loss.cpu().data.numpy()[0])\n",
    "    \n",
    "    loss.backward()\n",
    "    g_opt.step()"
   ]
  },
  {
   "cell_type": "code",
   "execution_count": 96,
   "metadata": {
    "collapsed": true
   },
   "outputs": [],
   "source": [
    "from matplotlib import pyplot as plt\n",
    "from matplotlib import mlab\n",
    "%matplotlib inline"
   ]
  },
  {
   "cell_type": "code",
   "execution_count": 469,
   "metadata": {},
   "outputs": [
    {
     "data": {
      "text/plain": [
       "[<matplotlib.lines.Line2D at 0x7fd639fb6be0>]"
      ]
     },
     "execution_count": 469,
     "metadata": {},
     "output_type": "execute_result"
    },
    {
     "data": {
      "image/png": "[encoded data removed]",
      "text/plain": [
       "<matplotlib.figure.Figure at 0x7fd63a0bbcc0>"
      ]
     },
     "metadata": {},
     "output_type": "display_data"
    }
   ],
   "source": [
    "x = generator(Variable(torch.range(0, 1, .01)).cuda().view(-1, 1))\n",
    "plt.plot(np.arange(0, 1.0001, .01), x.cpu().data[:, 0].numpy())"
   ]
  },
  {
   "cell_type": "code",
   "execution_count": 467,
   "metadata": {},
   "outputs": [
    {
     "data": {
      "text/plain": [
       "[<matplotlib.lines.Line2D at 0x7fd63a129240>]"
      ]
     },
     "execution_count": 467,
     "metadata": {},
     "output_type": "execute_result"
    },
    {
     "data": {
      "image/png": "[encoded data removed]",
      "text/plain": [
       "<matplotlib.figure.Figure at 0x7fd63a746630>"
      ]
     },
     "metadata": {},
     "output_type": "display_data"
    }
   ],
   "source": [
    "fake = generator(Variable(torch.rand(1000, 1)).cuda())\n",
    "fake = fake.cpu().data[:, 0].numpy()\n",
    "bound = discriminator(Variable(torch.range(-3 + mu, 3 + mu, .01)).cuda().view(-1, 1))\n",
    "bound = bound.cpu().data[:, 0].numpy()\n",
    "\n",
    "plt.hist(fake, normed=True)\n",
    "x = np.linspace(-3 + mu, 3 + mu, 100)\n",
    "plt.plot(x,mlab.normpdf(x, mu, std))\n",
    "x = np.linspace(-3 + mu, 3 + mu, 601)\n",
    "plt.plot(x, bound)"
   ]
  },
  {
   "cell_type": "code",
   "execution_count": 470,
   "metadata": {},
   "outputs": [
    {
     "data": {
      "text/plain": [
       "<matplotlib.legend.Legend at 0x7fd639f4c470>"
      ]
     },
     "execution_count": 470,
     "metadata": {},
     "output_type": "execute_result"
    },
    {
     "data": {
      "image/png": "[encoded data removed]",
      "text/plain": [
       "<matplotlib.figure.Figure at 0x7fd639f5c0b8>"
      ]
     },
     "metadata": {},
     "output_type": "display_data"
    }
   ],
   "source": [
    "plt.ylim((None, 1))\n",
    "plt.plot(d_real_losses, label='real')\n",
    "plt.plot(d_fake_losses, label='fake')\n",
    "x = np.linspace(0, len(d_real_losses), len(g_losses))\n",
    "plt.plot(x, g_losses, label='g')\n",
    "plt.legend()"
   ]
  },
  {
   "cell_type": "markdown",
   "metadata": {},
   "source": [
    "## MNIST"
   ]
  },
  {
   "cell_type": "code",
   "execution_count": 471,
   "metadata": {
    "collapsed": true
   },
   "outputs": [],
   "source": [
    "import sys\n",
    "import os\n",
    "import numpy as np\n",
    "\n",
    "def load_dataset():\n",
    "    if sys.version_info[0] == 2:\n",
    "        from urllib import urlretrieve\n",
    "    else:\n",
    "        from urllib.request import urlretrieve\n",
    "\n",
    "    def download(filename, source='http://yann.lecun.com/exdb/mnist/'):\n",
    "        print(\"Downloading %s\" % filename)\n",
    "        urlretrieve(source + filename, filename)\n",
    "    import gzip\n",
    "\n",
    "    def load_mnist_images(filename):\n",
    "        if not os.path.exists(filename):\n",
    "            download(filename)\n",
    "        with gzip.open(filename, 'rb') as f:\n",
    "            data = np.frombuffer(f.read(), np.uint8, offset=16)\n",
    "        data = data.reshape(-1, 1, 28, 28)\n",
    "        return data / np.float32(256)\n",
    "\n",
    "    def load_mnist_labels(filename):\n",
    "        if not os.path.exists(filename):\n",
    "            download(filename)\n",
    "        with gzip.open(filename, 'rb') as f:\n",
    "            data = np.frombuffer(f.read(), np.uint8, offset=8)\n",
    "        return data\n",
    "    X_train = load_mnist_images('train-images-idx3-ubyte.gz')\n",
    "    y_train = load_mnist_labels('train-labels-idx1-ubyte.gz')\n",
    "    X_test = load_mnist_images('t10k-images-idx3-ubyte.gz')\n",
    "    y_test = load_mnist_labels('t10k-labels-idx1-ubyte.gz')\n",
    "\n",
    "    X_train, X_val = X_train[:-10000], X_train[-10000:]\n",
    "    y_train, y_val = y_train[:-10000], y_train[-10000:]\n",
    "    return X_train, y_train, X_val, y_val, X_test, y_test\n",
    "X_train, y_train, X_val, y_val, X_test, y_test = load_dataset()"
   ]
  },
  {
   "cell_type": "code",
   "execution_count": 472,
   "metadata": {
    "collapsed": true
   },
   "outputs": [],
   "source": [
    "def minibatches(inputs, targets, batch_size, shuffle=True, strict=True):\n",
    "    assert len(inputs) == len(targets)\n",
    "\n",
    "    last = batch_size - 1 if strict else 0\n",
    "    if shuffle:\n",
    "        indices = np.arange(len(inputs))\n",
    "        np.random.shuffle(indices)\n",
    "    for start_idx in range(0, len(inputs) - last, batch_size):\n",
    "        if shuffle:\n",
    "            excerpt = indices[start_idx:start_idx + batch_size]\n",
    "        else:\n",
    "            excerpt = slice(start_idx, start_idx + batch_size)\n",
    "        yield inputs[excerpt], targets[excerpt]"
   ]
  },
  {
   "cell_type": "code",
   "execution_count": 757,
   "metadata": {
    "collapsed": true
   },
   "outputs": [],
   "source": [
    "class View(nn.Module):\n",
    "    def __init__(self, *shape):\n",
    "        super().__init__()\n",
    "        self.shape = shape\n",
    "        \n",
    "    def forward(self, input):\n",
    "        return input.view(*self.shape)\n",
    "\n",
    "gen_space = 40\n",
    "generator = nn.Sequential(\n",
    "    nn.Linear(gen_space, 200),\n",
    "    nn.ReLU(),\n",
    "#     nn.Linear(100, 300),\n",
    "#     nn.ReLU(),\n",
    "    nn.Linear(200, 5 ** 2 * 16),\n",
    "    nn.ReLU(),\n",
    "    View(-1, 16, 5, 5),\n",
    "    nn.UpsamplingNearest2d(scale_factor=2), # 10\n",
    "    nn.ConvTranspose2d(16, 8, 4), # 13\n",
    "    nn.ReLU(),\n",
    "    nn.UpsamplingNearest2d(scale_factor=2), # 26\n",
    "#     nn.ConvTranspose2d(12, 4, 2), # 1\n",
    "#     nn.ReLU(),\n",
    "#     nn.UpsamplingNearest2d(scale_factor=2), # 26\n",
    "    nn.ConvTranspose2d(8, 1, 3), # 28\n",
    "    nn.Sigmoid(),\n",
    ").cuda()\n",
    "\n",
    "discriminator = nn.Sequential(\n",
    "    nn.Conv2d(1, 8, 3),\n",
    "    nn.MaxPool2d(2),\n",
    "    nn.ReLU(),\n",
    "    nn.Conv2d(8, 16, 3),\n",
    "    nn.MaxPool2d(2),\n",
    "    nn.ReLU(),\n",
    "    View(-1, 5 ** 2 * 16),\n",
    "    nn.Linear(5 ** 2 * 16, 40),\n",
    "    nn.ReLU(),\n",
    "    nn.Linear(40, 1),\n",
    "    nn.Sigmoid(),\n",
    ").cuda()\n",
    "\n",
    "d_real_losses = []\n",
    "d_fake_losses = []\n",
    "g_losses = []"
   ]
  },
  {
   "cell_type": "code",
   "execution_count": 758,
   "metadata": {
    "collapsed": true
   },
   "outputs": [],
   "source": [
    "lr = 1e-6\n",
    "g_opt = torch.optim.Adam(generator.parameters(), lr=lr)\n",
    "d_opt = torch.optim.Adam(discriminator.parameters(), lr=lr)\n",
    "criterion = nn.BCELoss()"
   ]
  },
  {
   "cell_type": "code",
   "execution_count": 774,
   "metadata": {
    "collapsed": true
   },
   "outputs": [],
   "source": [
    "epochs = 10\n",
    "batch_size = 200"
   ]
  },
  {
   "cell_type": "code",
   "execution_count": 775,
   "metadata": {},
   "outputs": [
    {
     "name": "stderr",
     "output_type": "stream",
     "text": [
      "100%|██████████| 10/10 [02:35<00:00, 15.66s/it]\n"
     ]
    }
   ],
   "source": [
    "for epoch in trange(epochs):\n",
    "    for _ in range(3):\n",
    "        temp_real = temp_fake = steps = 0\n",
    "        for x, _ in minibatches(X_train, y_train, batch_size=batch_size):\n",
    "            discriminator.zero_grad()\n",
    "            \n",
    "            real = Variable(torch.from_numpy(x)).cuda()\n",
    "            y = discriminator(real)\n",
    "            labels = Variable(torch.ones(batch_size, 1)).cuda()\n",
    "            loss = criterion(y, labels)\n",
    "\n",
    "            fake = Variable(torch.normal(torch.zeros(batch_size, gen_space), 1)).cuda()\n",
    "            y = discriminator(generator(fake))\n",
    "            labels = Variable(torch.zeros(batch_size, 1)).cuda()\n",
    "            loss_fake = criterion(y, labels)\n",
    "\n",
    "            temp_real += loss.cpu().data.numpy()[0]\n",
    "            temp_fake += loss_fake.cpu().data.numpy()[0]\n",
    "            steps += 1\n",
    "\n",
    "            loss += loss_fake\n",
    "            loss.backward()\n",
    "            d_opt.step()\n",
    "    \n",
    "        d_real_losses.append(temp_real / steps)\n",
    "        d_fake_losses.append(temp_fake / steps)\n",
    "    \n",
    "    for _ in range(3):\n",
    "        temp = steps = 0\n",
    "        for x, _ in minibatches(X_train, y_train, batch_size=batch_size):\n",
    "            generator.zero_grad()\n",
    "\n",
    "            fake = Variable(torch.normal(torch.zeros(batch_size, gen_space), 1)).cuda()\n",
    "            y = discriminator(generator(fake))\n",
    "            labels = Variable(torch.ones(batch_size, 1)).cuda()\n",
    "            loss = criterion(y, labels)\n",
    "\n",
    "            temp += loss.cpu().data.numpy()[0]\n",
    "            steps += 1\n",
    "\n",
    "            loss.backward()\n",
    "            g_opt.step()\n",
    "\n",
    "        g_losses.append(temp / steps)"
   ]
  },
  {
   "cell_type": "code",
   "execution_count": 776,
   "metadata": {
    "scrolled": true
   },
   "outputs": [
    {
     "data": {
      "text/plain": [
       "<matplotlib.legend.Legend at 0x7fd6226884a8>"
      ]
     },
     "execution_count": 776,
     "metadata": {},
     "output_type": "execute_result"
    },
    {
     "data": {
      "image/png": "[encoded data removed]",
      "text/plain": [
       "<matplotlib.figure.Figure at 0x7fd6227a5908>"
      ]
     },
     "metadata": {},
     "output_type": "display_data"
    }
   ],
   "source": [
    "plt.ylim((None, 1))\n",
    "plt.plot(d_real_losses, label='real')\n",
    "plt.plot(d_fake_losses, label='fake')\n",
    "x = np.linspace(0, len(d_real_losses)-1, len(g_losses))\n",
    "plt.plot(x, g_losses, label='g')\n",
    "plt.legend()"
   ]
  },
  {
   "cell_type": "code",
   "execution_count": 777,
   "metadata": {},
   "outputs": [
    {
     "data": {
      "text/plain": [
       "<matplotlib.image.AxesImage at 0x7fd6225c2390>"
      ]
     },
     "execution_count": 777,
     "metadata": {},
     "output_type": "execute_result"
    },
    {
     "data": {
      "image/png": "[encoded data removed]",
      "text/plain": [
       "<matplotlib.figure.Figure at 0x7fd622af4358>"
      ]
     },
     "metadata": {},
     "output_type": "display_data"
    }
   ],
   "source": [
    "fake = generator(Variable(torch.ones(1, gen_space)).cuda())\n",
    "fake = fake.cpu().data[0, 0].numpy()\n",
    "plt.imshow(fake)"
   ]
  },
  {
   "cell_type": "code",
   "execution_count": 625,
   "metadata": {},
   "outputs": [
    {
     "name": "stderr",
     "output_type": "stream",
     "text": [
      "/home/mount/neuro-t01-ssd/home/memax/env36/lib/python3.6/site-packages/torch/serialization.py:147: UserWarning: Couldn't retrieve source code for container of type View. It won't be checked for correctness upon loading.\n",
      "  \"type \" + obj.__name__ + \". It won't be checked \"\n"
     ]
    }
   ],
   "source": [
    "torch.save(discriminator, 'gan_40/discriminator')\n",
    "torch.save(generator, 'gan_40/generator')"
   ]
  }
 ],
 "metadata": {
  "kernelspec": {
   "display_name": "Python 3.6.1",
   "language": "python",
   "name": "env36"
  },
  "language_info": {
   "codemirror_mode": {
    "name": "ipython",
    "version": 3
   },
   "file_extension": ".py",
   "mimetype": "text/x-python",
   "name": "python",
   "nbconvert_exporter": "python",
   "pygments_lexer": "ipython3",
   "version": "3.6.1"
  }
 },
 "nbformat": 4,
 "nbformat_minor": 2
}
