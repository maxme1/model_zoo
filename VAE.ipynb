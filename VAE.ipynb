{
 "cells": [
  {
   "cell_type": "code",
   "execution_count": 1,
   "metadata": {
    "collapsed": true
   },
   "outputs": [],
   "source": [
    "import numpy as np\n",
    "from matplotlib import pyplot as plt\n",
    "%matplotlib inline\n",
    "from tqdm import tqdm, trange\n",
    "\n",
    "from utils import load_mnist, minibatches\n",
    "X_train, y_train, X_val, y_val, X_test, y_test = load_mnist()"
   ]
  },
  {
   "cell_type": "code",
   "execution_count": 3,
   "metadata": {
    "collapsed": true,
    "scrolled": true
   },
   "outputs": [],
   "source": [
    "import torch\n",
    "from torch import nn\n",
    "from torch.autograd import Variable\n",
    "\n",
    "class View(nn.Module):\n",
    "    def __init__(self, *shape):\n",
    "        super().__init__()\n",
    "        self.shape = shape\n",
    "        \n",
    "    def forward(self, input):\n",
    "        return input.view(*self.shape)\n",
    "    \n",
    "class Normal(nn.Module):\n",
    "    def __init__(self, input, output):\n",
    "        super().__init__()\n",
    "        self.mu = torch.nn.Sequential(\n",
    "            nn.Linear(input, output),\n",
    "            nn.ReLU()\n",
    "        )\n",
    "        self.log_std = torch.nn.Sequential(\n",
    "            nn.Linear(input, output),\n",
    "            nn.ReLU()\n",
    "        )\n",
    "        \n",
    "    def forward(self, x):\n",
    "        mu, log_std = self.mu(x), self.log_std(x)\n",
    "        eps = Variable(torch.randn(*mu.size())).cuda()\n",
    "        return mu + log_std.exp() * eps, mu, log_std\n",
    "    \n",
    "    @staticmethod\n",
    "    def divergence(mu, log_std):\n",
    "        return (-1 - 2 * log_std + mu ** 2 + torch.exp(2 * log_std)).sum() * 0.5\n",
    "\n",
    "class VariationalAutoEncoder(nn.Module):\n",
    "    def __init__(self, dim=40):\n",
    "        super().__init__()\n",
    "        self.encoder = torch.nn.Sequential(\n",
    "            View(-1, 28 ** 2),\n",
    "            nn.Linear(28 ** 2, 400),\n",
    "            nn.ReLU(),\n",
    "        )\n",
    "        self.normal = Normal(400, dim)\n",
    "        self.decoder = torch.nn.Sequential(\n",
    "            nn.Linear(dim, 400),\n",
    "            nn.ReLU(),\n",
    "            nn.Linear(400, 28 ** 2),\n",
    "            nn.Sigmoid(),\n",
    "            View(-1, 1, 28, 28),\n",
    "        )\n",
    "    \n",
    "    def forward(self, x):\n",
    "        x = self.encoder(x)\n",
    "        x, mu, log_std = self.normal(x)\n",
    "        return self.decoder(x), mu, log_std\n",
    "    \n",
    "    def encode(self, x):\n",
    "        x = self.normal(self.encoder(x))[0]\n",
    "        return x\n",
    "\n",
    "net = VariationalAutoEncoder().cuda()\n",
    "criterion = torch.nn.BCELoss(size_average=False)\n",
    "losses = []"
   ]
  },
  {
   "cell_type": "code",
   "execution_count": 17,
   "metadata": {
    "collapsed": true
   },
   "outputs": [],
   "source": [
    "# I trained it 30 epochs with lr == 1e-3 and 20 epochs with lt == 1e-8\n",
    "optimizer = torch.optim.Adam(net.parameters(), lr=1e-8)"
   ]
  },
  {
   "cell_type": "code",
   "execution_count": 25,
   "metadata": {
    "collapsed": true
   },
   "outputs": [],
   "source": [
    "epochs = 10\n",
    "batch_size = 1000\n",
    "freq = 2000 / batch_size"
   ]
  },
  {
   "cell_type": "code",
   "execution_count": 26,
   "metadata": {},
   "outputs": [
    {
     "name": "stderr",
     "output_type": "stream",
     "text": [
      "                                                                          \r"
     ]
    }
   ],
   "source": [
    "for epoch in range(epochs):\n",
    "    ep = 'Epoch %d: ' % epoch\n",
    "    mean_loss = 0\n",
    "    step = 0\n",
    "    bar = tqdm(minibatches(X_train, y_train, batch_size=batch_size), leave=False, \n",
    "               total=(epochs-epoch) * len(X_train) // batch_size)\n",
    "    for x, _ in bar:\n",
    "        x = Variable(torch.from_numpy(x)).cuda()\n",
    "        \n",
    "        y_pred, mu, log_std = net(x)\n",
    "        loss = criterion(y_pred, x) + Normal.divergence(mu, log_std)\n",
    "        mean_loss += loss.cpu().data[0]\n",
    "\n",
    "        optimizer.zero_grad()\n",
    "        loss.backward()\n",
    "        optimizer.step()\n",
    "        \n",
    "        step += 1\n",
    "        if step >= freq:\n",
    "            losses.append(mean_loss / step)\n",
    "            bar.set_description(ep + str(losses[-1]))\n",
    "            mean_loss = step = 0\n",
    "    if step:\n",
    "        losses.append(mean_loss / step)\n",
    "        bar.set_description(ep + str(losses[-1]))"
   ]
  },
  {
   "cell_type": "code",
   "execution_count": 27,
   "metadata": {},
   "outputs": [
    {
     "data": {
      "text/plain": [
       "[<matplotlib.lines.Line2D at 0x7f45d95dd0f0>]"
      ]
     },
     "execution_count": 27,
     "metadata": {},
     "output_type": "execute_result"
    },
    {
     "data": {
      "image/png": "[encoded data removed]",
      "text/plain": [
       "<matplotlib.figure.Figure at 0x7f45d967d0f0>"
      ]
     },
     "metadata": {},
     "output_type": "display_data"
    }
   ],
   "source": [
    "plt.plot(losses)"
   ]
  },
  {
   "cell_type": "code",
   "execution_count": 28,
   "metadata": {},
   "outputs": [
    {
     "data": {
      "text/plain": [
       "<matplotlib.image.AxesImage at 0x7f45d95a50f0>"
      ]
     },
     "execution_count": 28,
     "metadata": {},
     "output_type": "execute_result"
    },
    {
     "data": {
      "image/png": "[encoded data removed]",
      "text/plain": [
       "<matplotlib.figure.Figure at 0x7f45d9834400>"
      ]
     },
     "metadata": {},
     "output_type": "display_data"
    }
   ],
   "source": [
    "x = X_train[[1010]]\n",
    "y = net(Variable(torch.from_numpy(x)).cuda())[0].cpu().data.numpy()\n",
    "ax = plt.subplots(1, 2)[1]\n",
    "ax[0].imshow(x[0][0], interpolation='none')\n",
    "ax[1].imshow(y[0][0], interpolation='none')"
   ]
  },
  {
   "cell_type": "code",
   "execution_count": 35,
   "metadata": {},
   "outputs": [
    {
     "data": {
      "text/plain": [
       "<matplotlib.image.AxesImage at 0x7f45904965f8>"
      ]
     },
     "execution_count": 35,
     "metadata": {},
     "output_type": "execute_result"
    },
    {
     "data": {
      "image/png": "[encoded data removed]",
      "text/plain": [
       "<matplotlib.figure.Figure at 0x7f4591017208>"
      ]
     },
     "metadata": {},
     "output_type": "display_data"
    }
   ],
   "source": [
    "plt.imshow(net.decoder(Variable(torch.ones(1, 40) - ).cuda())[0,0].cpu().data.numpy())"
   ]
  }
 ],
 "metadata": {
  "kernelspec": {
   "display_name": "Python 3.6.1",
   "language": "python",
   "name": "env36"
  },
  "language_info": {
   "codemirror_mode": {
    "name": "ipython",
    "version": 3
   },
   "file_extension": ".py",
   "mimetype": "text/x-python",
   "name": "python",
   "nbconvert_exporter": "python",
   "pygments_lexer": "ipython3",
   "version": "3.6.1"
  }
 },
 "nbformat": 4,
 "nbformat_minor": 1
}
