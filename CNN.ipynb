{
 "cells": [
  {
   "cell_type": "code",
   "execution_count": 2,
   "metadata": {},
   "outputs": [],
   "source": [
    "import numpy as np\n",
    "from matplotlib import pyplot as plt\n",
    "%matplotlib inline\n",
    "from tqdm import tqdm, trange\n",
    "\n",
    "from utils import load_mnist, minibatches\n",
    "X_train, y_train, X_val, y_val, X_test, y_test = load_mnist()"
   ]
  },
  {
   "cell_type": "code",
   "execution_count": 3,
   "metadata": {
    "collapsed": true
   },
   "outputs": [],
   "source": [
    "import torch\n",
    "from torch import nn\n",
    "from torch.autograd import Variable\n",
    "\n",
    "class View(nn.Module):\n",
    "    def __init__(self, *shape):\n",
    "        super().__init__()\n",
    "        self.shape = shape\n",
    "        \n",
    "    def forward(self, input):\n",
    "        return input.view(*self.shape)"
   ]
  },
  {
   "cell_type": "code",
   "execution_count": 4,
   "metadata": {
    "scrolled": true
   },
   "outputs": [],
   "source": [
    "net = torch.nn.Sequential(\n",
    "    nn.Conv2d(1, 8, 3),\n",
    "    nn.MaxPool2d(2),\n",
    "    nn.ReLU(),\n",
    "    nn.Conv2d(8, 16, 3),\n",
    "    nn.MaxPool2d(2),\n",
    "    nn.ReLU(),\n",
    "    View(-1, 5 ** 2 * 16),\n",
    "    nn.Linear(5 ** 2 * 16, 30),\n",
    "    nn.ReLU(),\n",
    "    nn.Linear(30, 10),\n",
    "    nn.LogSoftmax(),\n",
    ").cuda()\n",
    "\n",
    "criterion = torch.nn.NLLLoss()"
   ]
  },
  {
   "cell_type": "code",
   "execution_count": 5,
   "metadata": {
    "collapsed": true
   },
   "outputs": [],
   "source": [
    "optimizer = torch.optim.Adam(net.parameters(), lr=1e-2)\n",
    "losses = []"
   ]
  },
  {
   "cell_type": "code",
   "execution_count": 6,
   "metadata": {
    "collapsed": true
   },
   "outputs": [],
   "source": [
    "epochs = 10\n",
    "batch_size = 1000\n",
    "freq = 2000 / batch_size"
   ]
  },
  {
   "cell_type": "code",
   "execution_count": 9,
   "metadata": {},
   "outputs": [
    {
     "name": "stderr",
     "output_type": "stream",
     "text": [
      "\n",
      "                                                                               \r"
     ]
    }
   ],
   "source": [
    "for epoch in range(epochs):\n",
    "    ep = 'Epoch %d: ' % epoch\n",
    "    mean_loss = 0\n",
    "    step = 0\n",
    "    bar = tqdm(minibatches(X_train, y_train, batch_size=batch_size), leave=False, \n",
    "               total=(epochs-epoch) * len(X_train) // batch_size)\n",
    "    for x, y in bar:\n",
    "        x = Variable(torch.from_numpy(x)).cuda()\n",
    "        y = Variable(torch.from_numpy(y.astype('long'))).cuda()\n",
    "\n",
    "        y_pred = net(x)\n",
    "        loss = criterion(y_pred, y)\n",
    "        mean_loss += loss.cpu().data[0]\n",
    "\n",
    "        optimizer.zero_grad()\n",
    "        loss.backward()\n",
    "        optimizer.step()\n",
    "        \n",
    "        step += 1\n",
    "        if step >= freq:\n",
    "            losses.append(mean_loss / step)\n",
    "            bar.set_description(ep + str(losses[-1]))\n",
    "            mean_loss = step = 0\n",
    "    if step:\n",
    "        losses.append(mean_loss / step)\n",
    "        bar.set_description(ep + str(losses[-1]))"
   ]
  },
  {
   "cell_type": "code",
   "execution_count": 10,
   "metadata": {},
   "outputs": [
    {
     "data": {
      "text/plain": [
       "[<matplotlib.lines.Line2D at 0x7f35c0c01b00>]"
      ]
     },
     "execution_count": 10,
     "metadata": {},
     "output_type": "execute_result"
    },
    {
     "data": {
      "image/png": "[encoded data removed]",
      "text/plain": [
       "<matplotlib.figure.Figure at 0x7f35da4630f0>"
      ]
     },
     "metadata": {},
     "output_type": "display_data"
    }
   ],
   "source": [
    "plt.plot(losses)"
   ]
  },
  {
   "cell_type": "code",
   "execution_count": null,
   "metadata": {
    "collapsed": true
   },
   "outputs": [],
   "source": [
    "y = y_pred.cpu().data.numpy()\n",
    "x = x.cpu().data.numpy()"
   ]
  },
  {
   "cell_type": "code",
   "execution_count": 16,
   "metadata": {},
   "outputs": [
    {
     "data": {
      "text/plain": [
       "7"
      ]
     },
     "execution_count": 16,
     "metadata": {},
     "output_type": "execute_result"
    },
    {
     "data": {
      "image/png": "[encoded data removed]",
      "text/plain": [
       "<matplotlib.figure.Figure at 0x7f35d11d9128>"
      ]
     },
     "metadata": {},
     "output_type": "display_data"
    }
   ],
   "source": [
    "i = 200\n",
    "plt.imshow(x[i,0])\n",
    "np.argmax(y[i])"
   ]
  }
 ],
 "metadata": {
  "kernelspec": {
   "display_name": "Python 3.6.1",
   "language": "python",
   "name": "env36"
  },
  "language_info": {
   "codemirror_mode": {
    "name": "ipython",
    "version": 3
   },
   "file_extension": ".py",
   "mimetype": "text/x-python",
   "name": "python",
   "nbconvert_exporter": "python",
   "pygments_lexer": "ipython3",
   "version": "3.6.1"
  }
 },
 "nbformat": 4,
 "nbformat_minor": 1
}
