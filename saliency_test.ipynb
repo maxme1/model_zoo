{
 "cells": [
  {
   "cell_type": "code",
   "execution_count": 1,
   "metadata": {
    "collapsed": true
   },
   "outputs": [],
   "source": [
    "import sys\n",
    "import os\n",
    "import numpy as np\n",
    "\n",
    "def load_dataset():\n",
    "    if sys.version_info[0] == 2:\n",
    "        from urllib import urlretrieve\n",
    "    else:\n",
    "        from urllib.request import urlretrieve\n",
    "\n",
    "    def download(filename, source='http://yann.lecun.com/exdb/mnist/'):\n",
    "        print(\"Downloading %s\" % filename)\n",
    "        urlretrieve(source + filename, filename)\n",
    "    import gzip\n",
    "\n",
    "    def load_mnist_images(filename):\n",
    "        if not os.path.exists(filename):\n",
    "            download(filename)\n",
    "        with gzip.open(filename, 'rb') as f:\n",
    "            data = np.frombuffer(f.read(), np.uint8, offset=16)\n",
    "        data = data.reshape(-1, 1, 28, 28)\n",
    "        return data / np.float32(256)\n",
    "\n",
    "    def load_mnist_labels(filename):\n",
    "        if not os.path.exists(filename):\n",
    "            download(filename)\n",
    "        with gzip.open(filename, 'rb') as f:\n",
    "            data = np.frombuffer(f.read(), np.uint8, offset=8)\n",
    "        return data\n",
    "    X_train = load_mnist_images('train-images-idx3-ubyte.gz')\n",
    "    y_train = load_mnist_labels('train-labels-idx1-ubyte.gz')\n",
    "    X_test = load_mnist_images('t10k-images-idx3-ubyte.gz')\n",
    "    y_test = load_mnist_labels('t10k-labels-idx1-ubyte.gz')\n",
    "\n",
    "    X_train, X_val = X_train[:-10000], X_train[-10000:]\n",
    "    y_train, y_val = y_train[:-10000], y_train[-10000:]\n",
    "    return X_train, y_train, X_val, y_val, X_test, y_test\n",
    "X_train, y_train, X_val, y_val, X_test, y_test = load_dataset()"
   ]
  },
  {
   "cell_type": "code",
   "execution_count": 2,
   "metadata": {},
   "outputs": [
    {
     "name": "stderr",
     "output_type": "stream",
     "text": [
      "WARNING (theano.sandbox.cuda): The cuda backend is deprecated and will be removed in the next release (v0.10).  Please switch to the gpuarray backend. You can get more information about how to switch at this URL:\n",
      " https://github.com/Theano/Theano/wiki/Converting-to-the-new-gpu-back-end%28gpuarray%29\n",
      "\n",
      "Using gpu device 0: GeForce GTX 980 Ti (CNMeM is disabled, cuDNN 5005)\n"
     ]
    }
   ],
   "source": [
    "from wrapper import Network\n",
    "import lasagne\n",
    "\n",
    "layers = [\n",
    "            dict(type='InputLayer', shape=(None, 1, 28, 28)),\n",
    "            dict(type='Conv2DLayer', num_filters=128, filter_size=3),\n",
    "            dict(type='Pool2DLayer', pool_size=2),\n",
    "            dict(type='Conv2DLayer', num_filters=256, filter_size=3),\n",
    "            dict(type='Pool2DLayer', pool_size=2),\n",
    "            dict(type='DenseLayer', num_units=100),\n",
    "            dict(type='DenseLayer', num_units=10, nonlinearity=lasagne.nonlinearities.softmax),\n",
    "]\n",
    "\n",
    "net = Network(layers).compiled()"
   ]
  },
  {
   "cell_type": "code",
   "execution_count": 3,
   "metadata": {},
   "outputs": [
    {
     "name": "stderr",
     "output_type": "stream",
     "text": [
      "Loss: 0.2201: 166it [00:07, 23.69it/s]\n",
      "Loss: 0.1590: 166it [00:07, 21.87it/s]\n",
      "Loss: 0.0930: 166it [00:07, 23.47it/s]\n",
      "Loss: 0.0896: 166it [00:07, 22.86it/s]\n",
      "Loss: 0.0285: 166it [00:07, 22.20it/s]\n",
      "Loss: 0.0315: 166it [00:07, 22.08it/s]\n",
      "Loss: 0.0422: 166it [00:07, 22.61it/s]\n",
      "Loss: 0.0267: 166it [00:07, 23.28it/s]\n",
      "Loss: 0.0523: 166it [00:07, 21.44it/s]\n",
      "Loss: 0.0191: 166it [00:07, 19.68it/s]\n"
     ]
    }
   ],
   "source": [
    "for _ in range(10):\n",
    "    net.iterate__train(X_train, y_train, 300)"
   ]
  },
  {
   "cell_type": "code",
   "execution_count": 4,
   "metadata": {
    "collapsed": true
   },
   "outputs": [],
   "source": [
    "from matplotlib import pyplot as plt\n",
    "%matplotlib inline"
   ]
  },
  {
   "cell_type": "code",
   "execution_count": 5,
   "metadata": {},
   "outputs": [
    {
     "name": "stdout",
     "output_type": "stream",
     "text": [
      "5\n"
     ]
    },
    {
     "data": {
      "text/plain": [
       "<matplotlib.image.AxesImage at 0x7f1741fce5f8>"
      ]
     },
     "execution_count": 5,
     "metadata": {},
     "output_type": "execute_result"
    },
    {
     "data": {
      "image/png": "[encoded data removed]",
      "text/plain": [
       "<matplotlib.figure.Figure at 0x7f1741feaac8>"
      ]
     },
     "metadata": {},
     "output_type": "display_data"
    }
   ],
   "source": [
    "print(np.argmax(net.predict([X_train[0]])))\n",
    "plt.imshow(X_train[0, 0], interpolation='none')"
   ]
  },
  {
   "cell_type": "code",
   "execution_count": 47,
   "metadata": {
    "collapsed": true
   },
   "outputs": [],
   "source": [
    "from tqdm import tqdm\n",
    "import numpy as np\n",
    "\n",
    "def generate_pathces(x, shape, count_per_entry):\n",
    "#     per_entry = (count - 1) // len(x) + 1\n",
    "    for y in x:\n",
    "        upper = np.array(y.shape) - shape + 1\n",
    "        for _ in range(count_per_entry):\n",
    "#             if count <= 0:\n",
    "#                 return\n",
    "            begin = [np.random.randint(0, i) for i in upper]\n",
    "            end = begin + np.array(shape)\n",
    "            idx = [slice(*i) for i in zip(begin, end)]\n",
    "            yield y[idx]\n",
    "#             count -= 1\n",
    "\n",
    "def sampler(x, shape, inner_shape, count):\n",
    "    begin = (np.array(shape) - inner_shape) // 2\n",
    "    end = begin + inner_shape\n",
    "    coords = [slice(*i) for i in zip(begin, end)]\n",
    "    \n",
    "    A = b = n = 0\n",
    "    negation = None\n",
    "    for y in generate_pathces(x, shape, count):\n",
    "        p1 = y[coords]\n",
    "\n",
    "        if negation is None:\n",
    "            negation = np.ones(y.shape, dtype=bool)\n",
    "            negation[coords] = False\n",
    "\n",
    "        p2 = y[negation]\n",
    "        y = np.hstack((p1.reshape(-1), p2.reshape(-1)))\n",
    "\n",
    "        A += np.tensordot(y, y, axes=0)\n",
    "        b += y\n",
    "        n += 1\n",
    "\n",
    "    b /= n\n",
    "    A = A / (n - 1) - n / (n - 1) * np.tensordot(b, b, axes=0)\n",
    "    \n",
    "    size = np.prod(inner_shape)\n",
    "    S_11 = A[:size, :size]\n",
    "    S_12 = A[:size, size:]\n",
    "    S_22 = A[size:, size:]\n",
    "    prod = S_12.dot(np.linalg.inv(S_22))\n",
    "    mu = b[:size] - prod.dot(b[size:])\n",
    "    S = S_11 - prod.dot(S_12.T)\n",
    "    \n",
    "    def wrapped(a, size):\n",
    "        a = a[negation].reshape(-1)\n",
    "        ret = np.random.multivariate_normal(mu + prod.dot(a), S, size)\n",
    "        return ret.reshape((size,) + inner_shape)\n",
    "    return wrapped\n",
    "\n",
    "def odds(x):\n",
    "    return x / (1 - x)\n",
    "\n",
    "def get_saliency(network, source, outer_shape, inner_shape, batch_size, sample, num_samples, step=1, verbose=False):\n",
    "    begin = (np.array(outer_shape) - inner_shape) // 2\n",
    "    end = begin + inner_shape\n",
    "    coords = [slice(*i) for i in zip(begin, end)]\n",
    "    \n",
    "    dims = np.array(source.shape) - outer_shape + 1\n",
    "    dims = dims // step\n",
    "    dims[dims == 0] = 1\n",
    "    \n",
    "    probs = np.zeros(dims)\n",
    "    real = network([source])[0]\n",
    "\n",
    "    batch = []\n",
    "    indexes = []\n",
    "    \n",
    "    # calculate the probabilities\n",
    "    bar = np.ndindex(*dims)\n",
    "    if verbose:\n",
    "        bar = tqdm(bar)\n",
    "    for corner in bar:\n",
    "        real_corner = np.array(corner) * step\n",
    "        start = real_corner + begin\n",
    "        idx = [slice(*i) for i in zip(start, start + inner_shape)]\n",
    "        surround = [slice(*i) for i in zip(real_corner, real_corner + outer_shape)]\n",
    "        surround = source[surround]\n",
    "\n",
    "        for s in sample(surround, num_samples):\n",
    "            temp = source.copy()\n",
    "            temp[idx] = s\n",
    "            batch.append(temp)\n",
    "            indexes.append(corner)\n",
    "            if len(batch) == batch_size:\n",
    "                prob = network(batch)\n",
    "                for key, value in zip(indexes, prob):\n",
    "                    probs[key] += value\n",
    "                batch = []\n",
    "                indexes = []\n",
    "                \n",
    "    if batch:\n",
    "        prob = network(batch)\n",
    "        for key, value in zip(indexes, prob):\n",
    "            probs[key] += value\n",
    "    probs /= num_samples\n",
    "     \n",
    "    # create the attention map\n",
    "    probs = np.log(odds(probs))\n",
    "    real = np.log(odds(real))\n",
    "    saliency = np.zeros_like(source)\n",
    "    counts = np.zeros_like(source)\n",
    "    \n",
    "    for corner in np.ndindex(*dims):\n",
    "        real_corner = np.array(corner) * step\n",
    "        start = real_corner + begin\n",
    "        idx = [slice(*i) for i in zip(start, start + inner_shape)]\n",
    "\n",
    "        saliency[idx] += real - probs[corner]\n",
    "        counts[idx] += 1\n",
    "        \n",
    "    counts[counts == 0] = 1    \n",
    "    return saliency / counts / np.log(2)"
   ]
  },
  {
   "cell_type": "code",
   "execution_count": 43,
   "metadata": {},
   "outputs": [
    {
     "data": {
      "text/plain": [
       "(50000, 1, 28, 28)"
      ]
     },
     "execution_count": 43,
     "metadata": {},
     "output_type": "execute_result"
    }
   ],
   "source": [
    "X_train.shape"
   ]
  },
  {
   "cell_type": "code",
   "execution_count": 18,
   "metadata": {
    "collapsed": true
   },
   "outputs": [],
   "source": [
    "outer_shape, inner_shape = (1, 10, 10), (1, 6, 6)\n",
    "sample = sampler(X_train, outer_shape, inner_shape, 10)"
   ]
  },
  {
   "cell_type": "code",
   "execution_count": 44,
   "metadata": {},
   "outputs": [
    {
     "data": {
      "text/plain": [
       "<matplotlib.image.AxesImage at 0x7f173669c898>"
      ]
     },
     "execution_count": 44,
     "metadata": {},
     "output_type": "execute_result"
    },
    {
     "data": {
      "image/png": "[encoded data removed]",
      "text/plain": [
       "<matplotlib.figure.Figure at 0x7f1740426ef0>"
      ]
     },
     "metadata": {},
     "output_type": "display_data"
    }
   ],
   "source": [
    "source = X_train[1110]\n",
    "plt.imshow(source[0], interpolation='none', cmap='viridis_r')"
   ]
  },
  {
   "cell_type": "code",
   "execution_count": 45,
   "metadata": {
    "collapsed": true
   },
   "outputs": [],
   "source": [
    "def network(x):\n",
    "    p = net.predict(x)[:, 4]\n",
    "#     laplace correction\n",
    "    return  (p * len(X_train) + 1) / (len(X_train) + 10)"
   ]
  },
  {
   "cell_type": "code",
   "execution_count": 53,
   "metadata": {},
   "outputs": [
    {
     "name": "stderr",
     "output_type": "stream",
     "text": [
      "\n",
      "\n",
      "0it [00:00, ?it/s]\u001b[A\u001b[A\n",
      "\n",
      "62it [00:00, 611.92it/s]\u001b[A\u001b[A\n",
      "\n",
      "123it [00:00, 608.20it/s]\u001b[A\u001b[A\n",
      "\n",
      "220it [00:00, 684.12it/s]\u001b[A\u001b[A\n",
      "\n",
      "335it [00:00, 778.54it/s]\u001b[A\u001b[A\n",
      "\n",
      "361it [00:00, 844.50it/s]\u001b[A\u001b[A"
     ]
    }
   ],
   "source": [
    "ss = get_saliency(network, source, outer_shape, inner_shape, 100,  sample, 10, step=1, verbose=True)"
   ]
  },
  {
   "cell_type": "code",
   "execution_count": 49,
   "metadata": {
    "scrolled": false
   },
   "outputs": [
    {
     "data": {
      "text/plain": [
       "<matplotlib.colorbar.Colorbar at 0x7f17365c79b0>"
      ]
     },
     "execution_count": 49,
     "metadata": {},
     "output_type": "execute_result"
    },
    {
     "data": {
      "image/png": "[encoded data removed]",
      "text/plain": [
       "<matplotlib.figure.Figure at 0x7f173663c550>"
      ]
     },
     "metadata": {},
     "output_type": "display_data"
    }
   ],
   "source": [
    "plt.imshow(ss[0], interpolation='none')\n",
    "plt.colorbar()"
   ]
  }
 ],
 "metadata": {
  "kernelspec": {
   "display_name": "myenv",
   "language": "python",
   "name": "myenv"
  },
  "language_info": {
   "codemirror_mode": {
    "name": "ipython",
    "version": 3
   },
   "file_extension": ".py",
   "mimetype": "text/x-python",
   "name": "python",
   "nbconvert_exporter": "python",
   "pygments_lexer": "ipython3",
   "version": "3.4.3"
  }
 },
 "nbformat": 4,
 "nbformat_minor": 2
}
