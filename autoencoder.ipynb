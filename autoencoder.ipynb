{
 "cells": [
  {
   "cell_type": "code",
   "execution_count": 1,
   "metadata": {
    "collapsed": true
   },
   "outputs": [],
   "source": [
    "import numpy as np\n",
    "from matplotlib import pyplot as plt\n",
    "%matplotlib inline\n",
    "from tqdm import tqdm, trange\n",
    "\n",
    "from utils import load_mnist, minibatches\n",
    "X_train, y_train, X_val, y_val, X_test, y_test = load_mnist()"
   ]
  },
  {
   "cell_type": "code",
   "execution_count": 74,
   "metadata": {
    "collapsed": true,
    "scrolled": true
   },
   "outputs": [],
   "source": [
    "import torch\n",
    "from torch import nn\n",
    "from torch.autograd import Variable\n",
    "\n",
    "class View(nn.Module):\n",
    "    def __init__(self, *shape):\n",
    "        super().__init__()\n",
    "        self.shape = shape\n",
    "        \n",
    "    def forward(self, input):\n",
    "        return input.view(*self.shape)\n",
    "    \n",
    "\n",
    "class AutoEncoder(torch.nn.Module):\n",
    "    def __init__(self, dim=2):\n",
    "        super().__init__()\n",
    "        self.encoder = torch.nn.Sequential(\n",
    "            nn.Conv2d(1, 8, 3),\n",
    "            nn.MaxPool2d(2),\n",
    "            nn.ReLU(),\n",
    "            nn.Conv2d(8, 16, 3),\n",
    "            nn.MaxPool2d(2),\n",
    "            nn.ReLU(),\n",
    "            View(-1, 5 ** 2 * 16),\n",
    "            nn.Linear(5 ** 2 * 16, 30),\n",
    "            nn.ReLU(),\n",
    "            nn.Linear(30, dim),\n",
    "        )\n",
    "        self.decoder = torch.nn.Sequential(\n",
    "            nn.Linear(dim, 30),\n",
    "            nn.ReLU(),\n",
    "            nn.Linear(30, 5 ** 2 * 16),\n",
    "            nn.ReLU(),\n",
    "            View(-1, 16, 5, 5),\n",
    "            nn.UpsamplingNearest2d(scale_factor=2),\n",
    "            nn.ConvTranspose2d(16, 8, 4),\n",
    "            nn.ReLU(),\n",
    "            nn.UpsamplingNearest2d(scale_factor=2),\n",
    "            nn.ConvTranspose2d(8, 1, 3),\n",
    "            nn.Sigmoid(),\n",
    "        )\n",
    "    \n",
    "    def forward(self, x):\n",
    "        return self.decoder(self.encoder(x))\n",
    "\n",
    "net = AutoEncoder(dim=10).cuda()\n",
    "criterion = torch.nn.BCELoss()\n",
    "losses = []"
   ]
  },
  {
   "cell_type": "code",
   "execution_count": 86,
   "metadata": {
    "collapsed": true
   },
   "outputs": [],
   "source": [
    "optimizer = torch.optim.Adam(net.parameters(), lr=1e-3)"
   ]
  },
  {
   "cell_type": "code",
   "execution_count": 87,
   "metadata": {
    "collapsed": true
   },
   "outputs": [],
   "source": [
    "epochs = 30\n",
    "batch_size = 1000\n",
    "freq = 2000 / batch_size"
   ]
  },
  {
   "cell_type": "code",
   "execution_count": 88,
   "metadata": {},
   "outputs": [
    {
     "name": "stderr",
     "output_type": "stream",
     "text": [
      "                                                                              \r"
     ]
    }
   ],
   "source": [
    "for epoch in range(epochs):\n",
    "    ep = 'Epoch %d: ' % epoch\n",
    "    mean_loss = 0\n",
    "    step = 0\n",
    "    bar = tqdm(minibatches(X_train, y_train, batch_size=batch_size), leave=False, \n",
    "               total=(epochs-epoch) * len(X_train) // batch_size)\n",
    "    for x, _ in bar:\n",
    "        x = Variable(torch.from_numpy(x)).cuda()\n",
    "\n",
    "        y_pred = net(x)\n",
    "        loss = criterion(y_pred, x)\n",
    "        mean_loss += loss.cpu().data[0]\n",
    "\n",
    "        optimizer.zero_grad()\n",
    "        loss.backward()\n",
    "        optimizer.step()\n",
    "        \n",
    "        step += 1\n",
    "        if step >= freq:\n",
    "            losses.append(mean_loss / step)\n",
    "            bar.set_description(ep + str(losses[-1]))\n",
    "            mean_loss = step = 0\n",
    "    if step:\n",
    "        losses.append(mean_loss / step)\n",
    "        bar.set_description(ep + str(losses[-1]))"
   ]
  },
  {
   "cell_type": "code",
   "execution_count": 90,
   "metadata": {
    "scrolled": true
   },
   "outputs": [
    {
     "data": {
      "text/plain": [
       "[<matplotlib.lines.Line2D at 0x7fcdcc0676d8>]"
      ]
     },
     "execution_count": 90,
     "metadata": {},
     "output_type": "execute_result"
    },
    {
     "data": {
      "image/png": "[encoded data removed]",
      "text/plain": [
       "<matplotlib.figure.Figure at 0x7fcdcc087ef0>"
      ]
     },
     "metadata": {},
     "output_type": "display_data"
    }
   ],
   "source": [
    "plt.plot(losses)"
   ]
  },
  {
   "cell_type": "code",
   "execution_count": 92,
   "metadata": {},
   "outputs": [
    {
     "data": {
      "text/plain": [
       "<matplotlib.image.AxesImage at 0x7fcdc62bec88>"
      ]
     },
     "execution_count": 92,
     "metadata": {},
     "output_type": "execute_result"
    },
    {
     "data": {
      "image/png": "[encoded data removed]",
      "text/plain": [
       "<matplotlib.figure.Figure at 0x7fcdcc46e518>"
      ]
     },
     "metadata": {},
     "output_type": "display_data"
    }
   ],
   "source": [
    "x = X_train[[1010]]\n",
    "y = net(Variable(torch.from_numpy(x)).cuda()).cpu().data.numpy()\n",
    "ax = plt.subplots(1, 2)[1]\n",
    "ax[0].imshow(x[0][0], interpolation='none')\n",
    "ax[1].imshow(y[0][0], interpolation='none')"
   ]
  }
 ],
 "metadata": {
  "kernelspec": {
   "display_name": "Python 3.6.1",
   "language": "python",
   "name": "env36"
  },
  "language_info": {
   "codemirror_mode": {
    "name": "ipython",
    "version": 3
   },
   "file_extension": ".py",
   "mimetype": "text/x-python",
   "name": "python",
   "nbconvert_exporter": "python",
   "pygments_lexer": "ipython3",
   "version": "3.6.1"
  }
 },
 "nbformat": 4,
 "nbformat_minor": 1
}
